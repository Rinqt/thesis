{
 "cells": [
  {
   "cell_type": "code",
   "execution_count": 1,
   "metadata": {},
   "outputs": [],
   "source": [
    "import pandas as pd\n",
    "import numpy as np"
   ]
  },
  {
   "cell_type": "code",
   "execution_count": 2,
   "metadata": {
    "ExecuteTime": {
     "end_time": "2020-03-26T10:17:16.414142Z",
     "start_time": "2020-03-26T10:17:16.409153Z"
    }
   },
   "outputs": [],
   "source": [
    "from helper_classes.DatabaseHelper import get_evaluation_score"
   ]
  },
  {
   "cell_type": "code",
   "execution_count": 3,
   "metadata": {
    "ExecuteTime": {
     "end_time": "2020-03-26T15:07:45.944320Z",
     "start_time": "2020-03-26T15:07:45.830616Z"
    },
    "pycharm": {
     "name": "#%%\n"
    }
   },
   "outputs": [],
   "source": [
    "user_scores_version_one = get_evaluation_score('lstm_model_version_one')\n",
    "user_scores_version_two = get_evaluation_score('lstm_model_version_two')\n",
    "user_scores_version_three = get_evaluation_score('lstm_model_version_three')"
   ]
  },
  {
   "cell_type": "code",
   "execution_count": 4,
   "metadata": {
    "pycharm": {
     "name": "#%%\n"
    }
   },
   "outputs": [
    {
     "data": {
      "text/html": [
       "<div>\n",
       "<style scoped>\n",
       "    .dataframe tbody tr th:only-of-type {\n",
       "        vertical-align: middle;\n",
       "    }\n",
       "\n",
       "    .dataframe tbody tr th {\n",
       "        vertical-align: top;\n",
       "    }\n",
       "\n",
       "    .dataframe thead th {\n",
       "        text-align: right;\n",
       "    }\n",
       "</style>\n",
       "<table border=\"1\" class=\"dataframe\">\n",
       "  <thead>\n",
       "    <tr style=\"text-align: right;\">\n",
       "      <th></th>\n",
       "      <th>user_id</th>\n",
       "      <th>avg_precision</th>\n",
       "      <th>avg_recall</th>\n",
       "      <th>avg_mrr</th>\n",
       "    </tr>\n",
       "  </thead>\n",
       "  <tbody>\n",
       "    <tr>\n",
       "      <th>0</th>\n",
       "      <td>2931938</td>\n",
       "      <td>10.00000</td>\n",
       "      <td>38.6071</td>\n",
       "      <td>31.6667</td>\n",
       "    </tr>\n",
       "    <tr>\n",
       "      <th>1</th>\n",
       "      <td>3383214</td>\n",
       "      <td>10.00000</td>\n",
       "      <td>50.4762</td>\n",
       "      <td>30.9524</td>\n",
       "    </tr>\n",
       "    <tr>\n",
       "      <th>2</th>\n",
       "      <td>3414222</td>\n",
       "      <td>10.00000</td>\n",
       "      <td>100.0000</td>\n",
       "      <td>12.5000</td>\n",
       "    </tr>\n",
       "    <tr>\n",
       "      <th>3</th>\n",
       "      <td>3378633</td>\n",
       "      <td>8.00000</td>\n",
       "      <td>56.6667</td>\n",
       "      <td>10.7143</td>\n",
       "    </tr>\n",
       "    <tr>\n",
       "      <th>4</th>\n",
       "      <td>3388128</td>\n",
       "      <td>6.92308</td>\n",
       "      <td>10.2262</td>\n",
       "      <td>13.0769</td>\n",
       "    </tr>\n",
       "  </tbody>\n",
       "</table>\n",
       "</div>"
      ],
      "text/plain": [
       "   user_id  avg_precision  avg_recall  avg_mrr\n",
       "0  2931938       10.00000     38.6071  31.6667\n",
       "1  3383214       10.00000     50.4762  30.9524\n",
       "2  3414222       10.00000    100.0000  12.5000\n",
       "3  3378633        8.00000     56.6667  10.7143\n",
       "4  3388128        6.92308     10.2262  13.0769"
      ]
     },
     "execution_count": 4,
     "metadata": {},
     "output_type": "execute_result"
    }
   ],
   "source": [
    "lstm_model_version_one_scores = pd.DataFrame(user_scores_version_one, columns=['user_id', 'avg_precision', 'avg_recall', 'avg_mrr'])\n",
    "lstm_model_version_one_scores['user_id'] = lstm_model_version_one_scores['user_id'].astype(int)\n",
    "lstm_model_version_one_scores['avg_precision'] = lstm_model_version_one_scores['avg_precision'].astype(float)\n",
    "lstm_model_version_one_scores['avg_recall'] = lstm_model_version_one_scores['avg_recall'].astype(float)\n",
    "lstm_model_version_one_scores['avg_mrr'] = lstm_model_version_one_scores['avg_mrr'].astype(float)\n",
    "lstm_model_version_one_scores.head()"
   ]
  },
  {
   "cell_type": "code",
   "execution_count": 5,
   "metadata": {
    "pycharm": {
     "name": "#%%\n"
    }
   },
   "outputs": [
    {
     "data": {
      "text/html": [
       "<div>\n",
       "<style scoped>\n",
       "    .dataframe tbody tr th:only-of-type {\n",
       "        vertical-align: middle;\n",
       "    }\n",
       "\n",
       "    .dataframe tbody tr th {\n",
       "        vertical-align: top;\n",
       "    }\n",
       "\n",
       "    .dataframe thead th {\n",
       "        text-align: right;\n",
       "    }\n",
       "</style>\n",
       "<table border=\"1\" class=\"dataframe\">\n",
       "  <thead>\n",
       "    <tr style=\"text-align: right;\">\n",
       "      <th></th>\n",
       "      <th>user_id</th>\n",
       "      <th>avg_precision</th>\n",
       "      <th>avg_recall</th>\n",
       "      <th>avg_mrr</th>\n",
       "    </tr>\n",
       "  </thead>\n",
       "  <tbody>\n",
       "    <tr>\n",
       "      <th>0</th>\n",
       "      <td>2664493</td>\n",
       "      <td>10.0</td>\n",
       "      <td>100.0</td>\n",
       "      <td>100.0000</td>\n",
       "    </tr>\n",
       "    <tr>\n",
       "      <th>1</th>\n",
       "      <td>2810734</td>\n",
       "      <td>10.0</td>\n",
       "      <td>100.0</td>\n",
       "      <td>25.0000</td>\n",
       "    </tr>\n",
       "    <tr>\n",
       "      <th>2</th>\n",
       "      <td>3253764</td>\n",
       "      <td>10.0</td>\n",
       "      <td>100.0</td>\n",
       "      <td>16.6667</td>\n",
       "    </tr>\n",
       "    <tr>\n",
       "      <th>3</th>\n",
       "      <td>3288934</td>\n",
       "      <td>10.0</td>\n",
       "      <td>100.0</td>\n",
       "      <td>100.0000</td>\n",
       "    </tr>\n",
       "    <tr>\n",
       "      <th>4</th>\n",
       "      <td>3293837</td>\n",
       "      <td>10.0</td>\n",
       "      <td>75.0</td>\n",
       "      <td>10.0000</td>\n",
       "    </tr>\n",
       "  </tbody>\n",
       "</table>\n",
       "</div>"
      ],
      "text/plain": [
       "   user_id  avg_precision  avg_recall   avg_mrr\n",
       "0  2664493           10.0       100.0  100.0000\n",
       "1  2810734           10.0       100.0   25.0000\n",
       "2  3253764           10.0       100.0   16.6667\n",
       "3  3288934           10.0       100.0  100.0000\n",
       "4  3293837           10.0        75.0   10.0000"
      ]
     },
     "execution_count": 5,
     "metadata": {},
     "output_type": "execute_result"
    }
   ],
   "source": [
    "lstm_model_version_two_scores = pd.DataFrame(user_scores_version_two, columns=['user_id', 'avg_precision', 'avg_recall', 'avg_mrr'])\n",
    "lstm_model_version_two_scores['user_id'] = lstm_model_version_two_scores['user_id'].astype(int)\n",
    "lstm_model_version_two_scores['avg_precision'] = lstm_model_version_two_scores['avg_precision'].astype(float)\n",
    "lstm_model_version_two_scores['avg_recall'] = lstm_model_version_two_scores['avg_recall'].astype(float)\n",
    "lstm_model_version_two_scores['avg_mrr'] = lstm_model_version_two_scores['avg_mrr'].astype(float)\n",
    "lstm_model_version_two_scores.head()"
   ]
  },
  {
   "cell_type": "code",
   "execution_count": 6,
   "metadata": {
    "ExecuteTime": {
     "end_time": "2020-03-26T15:07:46.167427Z",
     "start_time": "2020-03-26T15:07:46.143501Z"
    }
   },
   "outputs": [
    {
     "data": {
      "text/html": [
       "<div>\n",
       "<style scoped>\n",
       "    .dataframe tbody tr th:only-of-type {\n",
       "        vertical-align: middle;\n",
       "    }\n",
       "\n",
       "    .dataframe tbody tr th {\n",
       "        vertical-align: top;\n",
       "    }\n",
       "\n",
       "    .dataframe thead th {\n",
       "        text-align: right;\n",
       "    }\n",
       "</style>\n",
       "<table border=\"1\" class=\"dataframe\">\n",
       "  <thead>\n",
       "    <tr style=\"text-align: right;\">\n",
       "      <th></th>\n",
       "      <th>user_id</th>\n",
       "      <th>avg_precision</th>\n",
       "      <th>avg_recall</th>\n",
       "      <th>avg_mrr</th>\n",
       "    </tr>\n",
       "  </thead>\n",
       "  <tbody>\n",
       "    <tr>\n",
       "      <th>0</th>\n",
       "      <td>3397659</td>\n",
       "      <td>15.0</td>\n",
       "      <td>100.0000</td>\n",
       "      <td>16.6667</td>\n",
       "    </tr>\n",
       "    <tr>\n",
       "      <th>1</th>\n",
       "      <td>2703031</td>\n",
       "      <td>10.0</td>\n",
       "      <td>100.0000</td>\n",
       "      <td>12.6323</td>\n",
       "    </tr>\n",
       "    <tr>\n",
       "      <th>2</th>\n",
       "      <td>3348787</td>\n",
       "      <td>10.0</td>\n",
       "      <td>75.0000</td>\n",
       "      <td>13.3333</td>\n",
       "    </tr>\n",
       "    <tr>\n",
       "      <th>3</th>\n",
       "      <td>3372815</td>\n",
       "      <td>10.0</td>\n",
       "      <td>100.0000</td>\n",
       "      <td>13.3333</td>\n",
       "    </tr>\n",
       "    <tr>\n",
       "      <th>4</th>\n",
       "      <td>3376011</td>\n",
       "      <td>10.0</td>\n",
       "      <td>51.4583</td>\n",
       "      <td>90.0000</td>\n",
       "    </tr>\n",
       "  </tbody>\n",
       "</table>\n",
       "</div>"
      ],
      "text/plain": [
       "   user_id  avg_precision  avg_recall  avg_mrr\n",
       "0  3397659           15.0    100.0000  16.6667\n",
       "1  2703031           10.0    100.0000  12.6323\n",
       "2  3348787           10.0     75.0000  13.3333\n",
       "3  3372815           10.0    100.0000  13.3333\n",
       "4  3376011           10.0     51.4583  90.0000"
      ]
     },
     "execution_count": 6,
     "metadata": {},
     "output_type": "execute_result"
    }
   ],
   "source": [
    "lstm_model_version_three_scores = pd.DataFrame(user_scores_version_three, columns=['user_id', 'avg_precision', 'avg_recall', 'avg_mrr'])\n",
    "lstm_model_version_three_scores['user_id'] = lstm_model_version_three_scores['user_id'].astype(int)\n",
    "lstm_model_version_three_scores['avg_precision'] = lstm_model_version_three_scores['avg_precision'].astype(float)\n",
    "lstm_model_version_three_scores['avg_recall'] = lstm_model_version_three_scores['avg_recall'].astype(float)\n",
    "lstm_model_version_three_scores['avg_mrr'] = lstm_model_version_three_scores['avg_mrr'].astype(float)\n",
    "lstm_model_version_three_scores.head()"
   ]
  },
  {
   "cell_type": "code",
   "execution_count": 7,
   "metadata": {
    "ExecuteTime": {
     "end_time": "2020-03-26T15:07:47.140248Z",
     "start_time": "2020-03-26T15:07:47.133267Z"
    }
   },
   "outputs": [
    {
     "name": "stdout",
     "output_type": "stream",
     "text": [
      "Number of the unique user count:  3605\n"
     ]
    }
   ],
   "source": [
    "distinct_user_count = len(lstm_model_version_one_scores)\n",
    "print('Number of the unique user count: ', distinct_user_count)"
   ]
  },
  {
   "cell_type": "markdown",
   "metadata": {
    "pycharm": {
     "name": "#%% md\n"
    }
   },
   "source": [
    "Get the number of 'hits'"
   ]
  },
  {
   "cell_type": "code",
   "execution_count": 8,
   "metadata": {
    "pycharm": {
     "name": "#%%\n"
    }
   },
   "outputs": [
    {
     "name": "stdout",
     "output_type": "stream",
     "text": [
      "Version 1: 29 >> Ratio: 0.008044382801664356\n",
      "Version 2: 127 >> Ratio: 0.03522884882108183\n",
      "Version 3: 89 >> Ratio: 0.024687933425797504\n"
     ]
    }
   ],
   "source": [
    "hit_counter_version_one = np.count_nonzero(lstm_model_version_one_scores['avg_precision'])\n",
    "hit_counter_version_two = np.count_nonzero(lstm_model_version_two_scores['avg_precision'])\n",
    "hit_counter_version_three = np.count_nonzero(lstm_model_version_three_scores['avg_precision'])\n",
    "\n",
    "print('Version 1: {} >> Ratio: {}'.format(hit_counter_version_one, float(hit_counter_version_one / distinct_user_count)))\n",
    "print('Version 2: {} >> Ratio: {}'.format(hit_counter_version_two, float(hit_counter_version_two / distinct_user_count)))\n",
    "print('Version 3: {} >> Ratio: {}'.format(hit_counter_version_three, float(hit_counter_version_three / distinct_user_count)))"
   ]
  },
  {
   "cell_type": "code",
   "execution_count": 9,
   "metadata": {
    "pycharm": {
     "name": "#%%\n"
    }
   },
   "outputs": [],
   "source": [
    "import seaborn as sns"
   ]
  },
  {
   "cell_type": "code",
   "execution_count": 10,
   "metadata": {
    "pycharm": {
     "name": "#%%\n"
    }
   },
   "outputs": [],
   "source": [
    "def test(row):\n",
    "    if (row.avg_precision > 0) and (row.avg_recall > 0) and (row.avg_mrr > 0):\n",
    "        return 1\n",
    "    else:\n",
    "        return 0"
   ]
  },
  {
   "cell_type": "code",
   "execution_count": 11,
   "metadata": {
    "pycharm": {
     "name": "#%%\n"
    }
   },
   "outputs": [],
   "source": [
    "lstm_model_version_one_scores['hit'] = lstm_model_version_one_scores.apply(test, axis=1)\n",
    "lstm_model_version_two_scores['hit'] = lstm_model_version_two_scores.apply(test, axis=1)\n",
    "lstm_model_version_three_scores['hit'] = lstm_model_version_three_scores.apply(test, axis=1)"
   ]
  },
  {
   "cell_type": "code",
   "execution_count": 12,
   "metadata": {
    "pycharm": {
     "name": "#%%\n"
    }
   },
   "outputs": [
    {
     "name": "stdout",
     "output_type": "stream",
     "text": [
      "Number of hits for version 1:  29\n",
      "Number of hits for version 2:  127\n",
      "Number of hits for version 3:  89\n"
     ]
    }
   ],
   "source": [
    "number_of_hits_version_one = len(lstm_model_version_one_scores[lstm_model_version_one_scores['hit'] == 1])\n",
    "number_of_hits_version_two = len(lstm_model_version_two_scores[lstm_model_version_two_scores['hit'] == 1])\n",
    "number_of_hits_version_three = len(lstm_model_version_three_scores[lstm_model_version_three_scores['hit'] == 1])\n",
    "\n",
    "print('Number of hits for version 1: ', number_of_hits_version_one)\n",
    "print('Number of hits for version 2: ', number_of_hits_version_two)\n",
    "print('Number of hits for version 3: ', number_of_hits_version_three)"
   ]
  },
  {
   "cell_type": "code",
   "execution_count": 13,
   "metadata": {
    "pycharm": {
     "name": "#%%\n"
    }
   },
   "outputs": [
    {
     "data": {
      "text/plain": [
       "<matplotlib.axes._subplots.AxesSubplot at 0x1dee0b8a888>"
      ]
     },
     "execution_count": 13,
     "metadata": {},
     "output_type": "execute_result"
    },
    {
     "data": {
      "image/png": "[encoded data removed]",
      "text/plain": [
       "<Figure size 432x288 with 1 Axes>"
      ]
     },
     "metadata": {
      "needs_background": "light"
     },
     "output_type": "display_data"
    }
   ],
   "source": [
    "sns.countplot(x='hit', data=lstm_model_version_one_scores, palette='terrain')"
   ]
  },
  {
   "cell_type": "code",
   "execution_count": 14,
   "metadata": {},
   "outputs": [
    {
     "data": {
      "text/plain": [
       "<matplotlib.axes._subplots.AxesSubplot at 0x1dee2649148>"
      ]
     },
     "execution_count": 14,
     "metadata": {},
     "output_type": "execute_result"
    },
    {
     "data": {
      "image/png": "[encoded data removed]",
      "text/plain": [
       "<Figure size 432x288 with 1 Axes>"
      ]
     },
     "metadata": {
      "needs_background": "light"
     },
     "output_type": "display_data"
    }
   ],
   "source": [
    "sns.countplot(x='hit', data=lstm_model_version_two_scores, palette='terrain')"
   ]
  },
  {
   "cell_type": "code",
   "execution_count": 15,
   "metadata": {},
   "outputs": [
    {
     "data": {
      "text/plain": [
       "<matplotlib.axes._subplots.AxesSubplot at 0x1dee26f5248>"
      ]
     },
     "execution_count": 15,
     "metadata": {},
     "output_type": "execute_result"
    },
    {
     "data": {
      "image/png": "[encoded data removed]",
      "text/plain": [
       "<Figure size 432x288 with 1 Axes>"
      ]
     },
     "metadata": {
      "needs_background": "light"
     },
     "output_type": "display_data"
    }
   ],
   "source": [
    "sns.countplot(x='hit', data=lstm_model_version_three_scores, palette='terrain')"
   ]
  },
  {
   "cell_type": "code",
   "execution_count": 16,
   "metadata": {
    "pycharm": {
     "name": "#%%\n"
    }
   },
   "outputs": [
    {
     "data": {
      "text/plain": [
       "<matplotlib.axes._subplots.AxesSubplot at 0x1dee2751c48>"
      ]
     },
     "execution_count": 16,
     "metadata": {},
     "output_type": "execute_result"
    },
    {
     "data": {
      "image/png": "[encoded data removed]",
      "text/plain": [
       "<Figure size 432x288 with 1 Axes>"
      ]
     },
     "metadata": {
      "needs_background": "light"
     },
     "output_type": "display_data"
    }
   ],
   "source": [
    "sns.boxplot(x='hit', y='avg_precision', data=lstm_model_version_one_scores)"
   ]
  },
  {
   "cell_type": "code",
   "execution_count": 17,
   "metadata": {
    "pycharm": {
     "name": "#%%\n"
    }
   },
   "outputs": [
    {
     "data": {
      "text/plain": [
       "<matplotlib.axes._subplots.AxesSubplot at 0x1dee27cd088>"
      ]
     },
     "execution_count": 17,
     "metadata": {},
     "output_type": "execute_result"
    },
    {
     "data": {
      "image/png": "[encoded data removed]",
      "text/plain": [
       "<Figure size 432x288 with 1 Axes>"
      ]
     },
     "metadata": {
      "needs_background": "light"
     },
     "output_type": "display_data"
    }
   ],
   "source": [
    "sns.boxplot(x='hit', y='avg_precision', data=lstm_model_version_two_scores)"
   ]
  },
  {
   "cell_type": "code",
   "execution_count": 18,
   "metadata": {},
   "outputs": [
    {
     "data": {
      "text/plain": [
       "<matplotlib.axes._subplots.AxesSubplot at 0x1dee283ffc8>"
      ]
     },
     "execution_count": 18,
     "metadata": {},
     "output_type": "execute_result"
    },
    {
     "data": {
      "image/png": "[encoded data removed]",
      "text/plain": [
       "<Figure size 432x288 with 1 Axes>"
      ]
     },
     "metadata": {
      "needs_background": "light"
     },
     "output_type": "display_data"
    }
   ],
   "source": [
    "sns.boxplot(x='hit', y='avg_precision', data=lstm_model_version_three_scores)"
   ]
  },
  {
   "cell_type": "code",
   "execution_count": null,
   "outputs": [],
   "source": [],
   "metadata": {
    "collapsed": false,
    "pycharm": {
     "name": "#%%\n"
    }
   }
  },
  {
   "cell_type": "code",
   "execution_count": null,
   "metadata": {},
   "outputs": [],
   "source": []
  }
 ],
 "metadata": {
  "kernelspec": {
   "display_name": "Python 3",
   "language": "python",
   "name": "python3"
  },
  "language_info": {
   "codemirror_mode": {
    "name": "ipython",
    "version": 3
   },
   "file_extension": ".py",
   "mimetype": "text/x-python",
   "name": "python",
   "nbconvert_exporter": "python",
   "pygments_lexer": "ipython3",
   "version": "3.7.7"
  },
  "toc": {
   "base_numbering": 1,
   "nav_menu": {},
   "number_sections": true,
   "sideBar": true,
   "skip_h1_title": false,
   "title_cell": "Table of Contents",
   "title_sidebar": "Contents",
   "toc_cell": false,
   "toc_position": {},
   "toc_section_display": true,
   "toc_window_display": false
  },
  "varInspector": {
   "cols": {
    "lenName": 16,
    "lenType": 16,
    "lenVar": 40
   },
   "kernels_config": {
    "python": {
     "delete_cmd_postfix": "",
     "delete_cmd_prefix": "del ",
     "library": "var_list.py",
     "varRefreshCmd": "print(var_dic_list())"
    },
    "r": {
     "delete_cmd_postfix": ") ",
     "delete_cmd_prefix": "rm(",
     "library": "var_list.r",
     "varRefreshCmd": "cat(var_dic_list()) "
    }
   },
   "types_to_exclude": [
    "module",
    "function",
    "builtin_function_or_method",
    "instance",
    "_Feature"
   ],
   "window_display": false
  }
 },
 "nbformat": 4,
 "nbformat_minor": 2
}