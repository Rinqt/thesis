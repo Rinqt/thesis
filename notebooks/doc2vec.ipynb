{
 "cells": [
  {
   "cell_type": "code",
   "execution_count": 1,
   "metadata": {
    "ExecuteTime": {
     "end_time": "2020-03-26T10:17:36.891252Z",
     "start_time": "2020-03-26T10:17:36.886298Z"
    }
   },
   "outputs": [],
   "source": [
    "import pandas as pd\n",
    "import numpy as np\n",
    "import pickle"
   ]
  },
  {
   "cell_type": "code",
   "execution_count": 2,
   "metadata": {
    "pycharm": {
     "name": "#%%\n"
    }
   },
   "outputs": [],
   "source": [
    "from helper_classes.PreProcessData import clean_text, read_corpus\n",
    "from helper_classes.DatabaseHelper import fetch_travel_packages_data, get_evaluation_score\n",
    "from helper_classes.Metrics import recall, precision, mrr\n",
    "from helper_classes.Evaluation import Evaluator"
   ]
  },
  {
   "cell_type": "code",
   "execution_count": 3,
   "metadata": {
    "ExecuteTime": {
     "end_time": "2020-03-26T10:17:37.445437Z",
     "start_time": "2020-03-26T10:17:37.440450Z"
    }
   },
   "outputs": [],
   "source": [
    "metrics = {'precision': precision, 'recall': recall, 'mrr': mrr}"
   ]
  },
  {
   "cell_type": "markdown",
   "metadata": {
    "pycharm": {
     "name": "#%%\n"
    }
   },
   "source": [
    "Get all the travel package data.\n",
    "Columns to get: id, nazev, popisek, do"
   ]
  },
  {
   "cell_type": "code",
   "execution_count": 4,
   "metadata": {
    "ExecuteTime": {
     "end_time": "2020-03-26T10:17:40.421507Z",
     "start_time": "2020-03-26T10:17:37.800521Z"
    }
   },
   "outputs": [],
   "source": [
    "travel_package = fetch_travel_packages_data()"
   ]
  },
  {
   "cell_type": "markdown",
   "metadata": {},
   "source": [
    "Column 'do' will not be used for Doc2Vec training. It is used for getting the last information regarding the travel package. Then it is dropped from the dataframe."
   ]
  },
  {
   "cell_type": "code",
   "execution_count": 5,
   "metadata": {},
   "outputs": [
    {
     "data": {
      "text/html": [
       "<div>\n",
       "<style scoped>\n",
       "    .dataframe tbody tr th:only-of-type {\n",
       "        vertical-align: middle;\n",
       "    }\n",
       "\n",
       "    .dataframe tbody tr th {\n",
       "        vertical-align: top;\n",
       "    }\n",
       "\n",
       "    .dataframe thead th {\n",
       "        text-align: right;\n",
       "    }\n",
       "</style>\n",
       "<table border=\"1\" class=\"dataframe\">\n",
       "  <thead>\n",
       "    <tr style=\"text-align: right;\">\n",
       "      <th></th>\n",
       "      <th>id</th>\n",
       "      <th>nazev</th>\n",
       "      <th>popisek</th>\n",
       "    </tr>\n",
       "  </thead>\n",
       "  <tbody>\n",
       "    <tr>\n",
       "      <th>1</th>\n",
       "      <td>1</td>\n",
       "      <td>- Romantikou Anglie a Skotska -</td>\n",
       "      <td>Velká Británie je složena ze 4 zemí - Anglie, ...</td>\n",
       "    </tr>\n",
       "    <tr>\n",
       "      <th>5</th>\n",
       "      <td>3</td>\n",
       "      <td>- PERLY TOSKÁNSKA -</td>\n",
       "      <td>Vedle proslulých, každému známých a turisty ne...</td>\n",
       "    </tr>\n",
       "    <tr>\n",
       "      <th>10</th>\n",
       "      <td>6</td>\n",
       "      <td>- Královská Provence -</td>\n",
       "      <td>Kraj plný rytířských hradů, romantických zámků...</td>\n",
       "    </tr>\n",
       "    <tr>\n",
       "      <th>16</th>\n",
       "      <td>8</td>\n",
       "      <td>- Paříž a zámky francouzských králů -</td>\n",
       "      <td>Říká se, že kdo neviděl Paříž, ten nepoznal Ev...</td>\n",
       "    </tr>\n",
       "    <tr>\n",
       "      <th>48</th>\n",
       "      <td>10</td>\n",
       "      <td>- Termignon, Residence Les Balcons de la Vano...</td>\n",
       "      <td>Termignon patří mezi menší francouzská zimní s...</td>\n",
       "    </tr>\n",
       "  </tbody>\n",
       "</table>\n",
       "</div>"
      ],
      "text/plain": [
       "    id                                              nazev  \\\n",
       "1    1                   - Romantikou Anglie a Skotska -    \n",
       "5    3                               - PERLY TOSKÁNSKA -    \n",
       "10   6                            - Královská Provence -    \n",
       "16   8             - Paříž a zámky francouzských králů -    \n",
       "48  10   - Termignon, Residence Les Balcons de la Vano...   \n",
       "\n",
       "                                              popisek  \n",
       "1   Velká Británie je složena ze 4 zemí - Anglie, ...  \n",
       "5   Vedle proslulých, každému známých a turisty ne...  \n",
       "10  Kraj plný rytířských hradů, romantických zámků...  \n",
       "16  Říká se, že kdo neviděl Paříž, ten nepoznal Ev...  \n",
       "48  Termignon patří mezi menší francouzská zimní s...  "
      ]
     },
     "execution_count": 5,
     "metadata": {},
     "output_type": "execute_result"
    }
   ],
   "source": [
    "columns = ['id', 'nazev', 'popisek', 'do']\n",
    "travel_package_df = pd.DataFrame(data=travel_package, columns=columns)\n",
    "travel_package_df = travel_package_df.sort_values('do').drop_duplicates('id', keep='last').sort_index()\n",
    "travel_package_df = travel_package_df.drop(columns=['do'])\n",
    "travel_package_df.head()"
   ]
  },
  {
   "cell_type": "code",
   "execution_count": 6,
   "metadata": {
    "ExecuteTime": {
     "end_time": "2020-03-26T10:17:40.468361Z",
     "start_time": "2020-03-26T10:17:40.459380Z"
    }
   },
   "outputs": [],
   "source": [
    "result_df = travel_package_df.apply(lambda x: ','.join(x.astype(str)), axis=1)"
   ]
  },
  {
   "cell_type": "code",
   "execution_count": 7,
   "metadata": {
    "ExecuteTime": {
     "end_time": "2020-03-26T10:17:44.913489Z",
     "start_time": "2020-03-26T10:17:44.722995Z"
    }
   },
   "outputs": [
    {
     "data": {
      "text/plain": [
       "1     1, romantikou anglie a skotska ,velká británie...\n",
       "5     3, perly toskánska ,vedle proslulých, každému ...\n",
       "10    6, královská provence ,kraj plný rytířských hr...\n",
       "16    8, paříž a zámky francouzských králů ,říká se,...\n",
       "48    10, termignon, residence les balcons de la van...\n",
       "Name: clean, dtype: object"
      ]
     },
     "execution_count": 7,
     "metadata": {},
     "output_type": "execute_result"
    }
   ],
   "source": [
    "result_df = clean_text(result_df)\n",
    "result_df.head()"
   ]
  },
  {
   "cell_type": "code",
   "execution_count": null,
   "outputs": [],
   "source": [
    "train_corpus = list(read_corpus(result_df))\n",
    "print(train_corpus[:2])"
   ],
   "metadata": {
    "collapsed": false,
    "pycharm": {
     "name": "#%%\n"
    }
   }
  },
  {
   "cell_type": "code",
   "execution_count": 8,
   "metadata": {},
   "outputs": [
    {
     "name": "stdout",
     "output_type": "stream",
     "text": [
      "[TaggedDocument(words=['romantikou', 'anglie', 'skotska', 'velká', 'británie', 'je', 'složena', 'ze', 'zemí', 'anglie', 'skotska', 'walesu', 'severního', 'irska', 'každá', 'nich', 'nabízí', 'něco', 'jiného', 'pokud', 'jde', 'tradice', 'historii', 'krajinu', 'lidi', 'romantické', 'hory', 'poklidná', 'jezera', 'zvlněné', 'zelené', 'kopce', 'zalesněná', 'údolí', 'divoká', 'pobřeží', 'to', 'vše', 'uvidíte', 'během', 'desetidenního', 'zájezdu', 'po', 'místech', 'anglie', 'skotska'], tags=['1']), TaggedDocument(words=['perly', 'toskánska', 'vedle', 'proslulých', 'každému', 'známých', 'turisty', 'míst', 'itálii', 'jako', 'jsou', 'benátky', 'řím', 'či', 'florencie', 'je', 'na', 'území', 'itálie', 'nespočetné', 'množství', 'dalších', 'zajímavostí', 'památek', 'právě', 'takováto', 'místa', 'která', 'se', 'ne', 'vždy', 'dostávají', 'do', 'programu', 'tradičních', 'tras', 'zájezdů', 'vám', 'chceme', 'nabídnout', 'při', 'našich', 'toulkách', 'toskánskem'], tags=['3'])]\n"
     ]
    }
   ],
   "source": [
    "Load Doc2Vec Model and Item Vectors"
   ]
  },
  {
   "cell_type": "markdown",
   "metadata": {
    "ExecuteTime": {
     "end_time": "2020-03-23T22:02:17.580225Z",
     "start_time": "2020-03-23T22:02:17.576235Z"
    }
   },
   "source": [
    "Load Doc2Vec Model and Item Vectors"
   ]
  },
  {
   "cell_type": "code",
   "execution_count": 9,
   "metadata": {
    "pycharm": {
     "name": "#%%\n"
    }
   },
   "outputs": [],
   "source": [
    "model_path = f'D:/Thesis/recsys_thesis/models/doc2vec.model'\n",
    "file = open(model_path, 'rb')\n",
    "model = pickle.load(file)"
   ]
  },
  {
   "cell_type": "code",
   "execution_count": 10,
   "metadata": {},
   "outputs": [],
   "source": [
    "items_path = f'D:/Thesis/recsys_thesis/models/items_pickle.items'\n",
    "items_file = open(items_path, 'rb')\n",
    "items = pickle.load(items_file)"
   ]
  },
  {
   "cell_type": "markdown",
   "metadata": {},
   "source": [
    "Evaluation Metrics:\n",
    " 1. **metrics**\n",
    "\t\t - Precision: What proportion of positive identifications was actually correct?\n",
    "\t\t - Recall: What proportion of actual positives was identified correctly?\n",
    "\t\t - Mrr: Measure to evaluate systems that return a ranked list of answers to queries\n",
    " 3. **model_name:** Name of the recommendation model. \n",
    " 4. **given_k:** Number of items user will has in her/his profile\n",
    " 5. **look_ahead:** Ground Truth top_n => Number of items to consider for\n",
    " 6. **prediction step:** How many steps will be taken after the evaluation.\n"
   ]
  },
  {
   "cell_type": "code",
   "execution_count": 11,
   "metadata": {
    "pycharm": {
     "name": "#%%\n"
    }
   },
   "outputs": [],
   "source": [
    "metrics = {'precision': precision, 'recall': recall, 'mrr': mrr}\n",
    "model_name = 'd2v'\n",
    "given_k = 1\n",
    "look_ahead = 'all'\n",
    "top_n = 10\n",
    "step = 1"
   ]
  },
  {
   "cell_type": "code",
   "execution_count": null,
   "metadata": {
    "pycharm": {
     "name": "#%%\n"
    }
   },
   "outputs": [],
   "source": [
    "for user_id, user_sequence in train_data:\n",
    "    item2vec_evaluator = Evaluator(recommender_model=model,\n",
    "                                   recommender_name=model_name,\n",
    "                                   metrics=metrics,\n",
    "                                   items=items,\n",
    "                                   test_sequence=user_sequence,\n",
    "                                   given_k=given_k,\n",
    "                                   look_ahead=look_ahead,\n",
    "                                   top_n=top_n,\n",
    "                                   step=step)\n",
    "    \n",
    "    evaluation_result = item2vec_evaluator.sequential_evaluation()\n",
    "    \n",
    "    \n",
    "    metric_results = list(zip(metrics.keys(), evaluation_result))\n",
    "    \n",
    "    user_average_precision = round(metric_results[0][1], 2)\n",
    "    user_average_recall = round(metric_results[1][1], 2)\n",
    "    user_average_mrr = round(metric_results[2][1], 2)\n",
    "    \n",
    "    print(f'User {user_id} has been evaluated.. >> {user_average_precision} >> {user_average_recall} >> {user_average_mrr}')"
   ]
  },
  {
   "cell_type": "markdown",
   "metadata": {},
   "source": [
    "After evaluating the model, retrieve the results from the database."
   ]
  },
  {
   "cell_type": "code",
   "execution_count": 12,
   "metadata": {
    "pycharm": {
     "name": "#%%\n"
    }
   },
   "outputs": [],
   "source": [
    "user_scores = get_evaluation_score('d2v')\n"
   ]
  },
  {
   "cell_type": "code",
   "execution_count": 13,
   "metadata": {
    "ExecuteTime": {
     "end_time": "2020-03-26T10:17:47.821677Z",
     "start_time": "2020-03-26T10:17:47.803725Z"
    }
   },
   "outputs": [
    {
     "data": {
      "text/html": [
       "<div>\n",
       "<style scoped>\n",
       "    .dataframe tbody tr th:only-of-type {\n",
       "        vertical-align: middle;\n",
       "    }\n",
       "\n",
       "    .dataframe tbody tr th {\n",
       "        vertical-align: top;\n",
       "    }\n",
       "\n",
       "    .dataframe thead th {\n",
       "        text-align: right;\n",
       "    }\n",
       "</style>\n",
       "<table border=\"1\" class=\"dataframe\">\n",
       "  <thead>\n",
       "    <tr style=\"text-align: right;\">\n",
       "      <th></th>\n",
       "      <th>user_id</th>\n",
       "      <th>avg_precision</th>\n",
       "      <th>avg_recall</th>\n",
       "      <th>avg_mrr</th>\n",
       "    </tr>\n",
       "  </thead>\n",
       "  <tbody>\n",
       "    <tr>\n",
       "      <th>0</th>\n",
       "      <td>3379588</td>\n",
       "      <td>0.5</td>\n",
       "      <td>0.83</td>\n",
       "      <td>0.5</td>\n",
       "    </tr>\n",
       "    <tr>\n",
       "      <th>1</th>\n",
       "      <td>3349963</td>\n",
       "      <td>0.4</td>\n",
       "      <td>0.50</td>\n",
       "      <td>1.0</td>\n",
       "    </tr>\n",
       "    <tr>\n",
       "      <th>2</th>\n",
       "      <td>3367370</td>\n",
       "      <td>0.4</td>\n",
       "      <td>0.57</td>\n",
       "      <td>1.0</td>\n",
       "    </tr>\n",
       "    <tr>\n",
       "      <th>3</th>\n",
       "      <td>3395510</td>\n",
       "      <td>0.4</td>\n",
       "      <td>1.00</td>\n",
       "      <td>0.5</td>\n",
       "    </tr>\n",
       "    <tr>\n",
       "      <th>4</th>\n",
       "      <td>3347716</td>\n",
       "      <td>0.3</td>\n",
       "      <td>0.75</td>\n",
       "      <td>1.0</td>\n",
       "    </tr>\n",
       "  </tbody>\n",
       "</table>\n",
       "</div>"
      ],
      "text/plain": [
       "   user_id  avg_precision  avg_recall  avg_mrr\n",
       "0  3379588            0.5        0.83      0.5\n",
       "1  3349963            0.4        0.50      1.0\n",
       "2  3367370            0.4        0.57      1.0\n",
       "3  3395510            0.4        1.00      0.5\n",
       "4  3347716            0.3        0.75      1.0"
      ]
     },
     "execution_count": 13,
     "metadata": {},
     "output_type": "execute_result"
    }
   ],
   "source": [
    "df_user_scores = pd.DataFrame(user_scores, columns=['user_id', 'avg_precision', 'avg_recall', 'avg_mrr'])\n",
    "df_user_scores['user_id'] = df_user_scores['user_id'].astype(int)\n",
    "df_user_scores['avg_precision'] = df_user_scores['avg_precision'].astype(float)\n",
    "df_user_scores['avg_recall'] = df_user_scores['avg_recall'].astype(float)\n",
    "df_user_scores['avg_mrr'] = df_user_scores['avg_mrr'].astype(float)\n",
    "df_user_scores.head()"
   ]
  },
  {
   "cell_type": "code",
   "execution_count": 14,
   "metadata": {
    "ExecuteTime": {
     "end_time": "2020-03-26T10:17:48.745208Z",
     "start_time": "2020-03-26T10:17:48.740251Z"
    }
   },
   "outputs": [
    {
     "name": "stdout",
     "output_type": "stream",
     "text": [
      "Nummber of the unique user count:  4105\n"
     ]
    }
   ],
   "source": [
    "distinct_user_count = len(df_user_scores)\n",
    "print('Nummber of the unique user count: ', distinct_user_count)"
   ]
  },
  {
   "cell_type": "markdown",
   "metadata": {
    "ExecuteTime": {
     "end_time": "2020-03-26T10:17:49.144140Z",
     "start_time": "2020-03-26T10:17:49.140178Z"
    },
    "pycharm": {
     "name": "#%% md\n"
    }
   },
   "source": [
    "Get the number of 'hits'"
   ]
  },
  {
   "cell_type": "code",
   "execution_count": 15,
   "metadata": {
    "ExecuteTime": {
     "end_time": "2020-03-26T10:17:49.884185Z",
     "start_time": "2020-03-26T10:17:49.881198Z"
    },
    "pycharm": {
     "name": "#%%\n"
    }
   },
   "outputs": [
    {
     "name": "stdout",
     "output_type": "stream",
     "text": [
      "627\n"
     ]
    }
   ],
   "source": [
    "hit_counter = np.count_nonzero(df_user_scores['avg_precision'])\n",
    "not_hit_counter = distinct_user_count - hit_counter\n",
    "print(hit_counter)"
   ]
  },
  {
   "cell_type": "code",
   "execution_count": 16,
   "metadata": {
    "ExecuteTime": {
     "end_time": "2020-03-26T10:17:50.552402Z",
     "start_time": "2020-03-26T10:17:50.346921Z"
    },
    "pycharm": {
     "name": "#%%\n"
    }
   },
   "outputs": [],
   "source": [
    "import seaborn as sns"
   ]
  },
  {
   "cell_type": "code",
   "execution_count": 17,
   "metadata": {
    "ExecuteTime": {
     "end_time": "2020-03-26T10:17:51.000470Z",
     "start_time": "2020-03-26T10:17:50.795016Z"
    },
    "pycharm": {
     "name": "#%%\n"
    }
   },
   "outputs": [
    {
     "data": {
      "text/plain": [
       "<matplotlib.axes._subplots.AxesSubplot at 0x1ef8ad69748>"
      ]
     },
     "execution_count": 17,
     "metadata": {},
     "output_type": "execute_result"
    },
    {
     "data": {
      "image/png": "[encoded data removed]",
      "text/plain": [
       "<Figure size 432x288 with 1 Axes>"
      ]
     },
     "metadata": {
      "needs_background": "light"
     },
     "output_type": "display_data"
    }
   ],
   "source": [
    "sns.distplot(df_user_scores['avg_precision'])"
   ]
  },
  {
   "cell_type": "code",
   "execution_count": 18,
   "metadata": {
    "ExecuteTime": {
     "end_time": "2020-03-26T10:17:51.769413Z",
     "start_time": "2020-03-26T10:17:51.563962Z"
    },
    "pycharm": {
     "name": "#%%\n"
    }
   },
   "outputs": [
    {
     "data": {
      "text/plain": [
       "<matplotlib.axes._subplots.AxesSubplot at 0x1ef8d4bf648>"
      ]
     },
     "execution_count": 18,
     "metadata": {},
     "output_type": "execute_result"
    },
    {
     "data": {
      "image/png": "[encoded data removed]",
      "text/plain": [
       "<Figure size 432x288 with 1 Axes>"
      ]
     },
     "metadata": {
      "needs_background": "light"
     },
     "output_type": "display_data"
    }
   ],
   "source": [
    "sns.distplot(df_user_scores['avg_recall'])"
   ]
  },
  {
   "cell_type": "code",
   "execution_count": 19,
   "metadata": {
    "ExecuteTime": {
     "end_time": "2020-03-26T10:17:52.159371Z",
     "start_time": "2020-03-26T10:17:52.155377Z"
    },
    "pycharm": {
     "name": "#%%\n"
    }
   },
   "outputs": [
    {
     "data": {
      "text/plain": [
       "<matplotlib.axes._subplots.AxesSubplot at 0x1ef8b0fa5c8>"
      ]
     },
     "execution_count": 19,
     "metadata": {},
     "output_type": "execute_result"
    },
    {
     "data": {
      "image/png": "[encoded data removed]",
      "text/plain": [
       "<Figure size 432x288 with 1 Axes>"
      ]
     },
     "metadata": {
      "needs_background": "light"
     },
     "output_type": "display_data"
    }
   ],
   "source": [
    "sns.distplot(df_user_scores['avg_mrr'])"
   ]
  },
  {
   "cell_type": "code",
   "execution_count": 20,
   "metadata": {
    "ExecuteTime": {
     "end_time": "2020-03-26T10:17:52.925387Z",
     "start_time": "2020-03-26T10:17:52.752768Z"
    },
    "pycharm": {
     "name": "#%%\n"
    }
   },
   "outputs": [],
   "source": [
    "def test(row):\n",
    "    if (row.avg_precision > 0) and (row.avg_recall > 0) and (row.avg_mrr > 0):\n",
    "        return 1\n",
    "    else:\n",
    "        return 0"
   ]
  },
  {
   "cell_type": "code",
   "execution_count": 21,
   "metadata": {
    "ExecuteTime": {
     "end_time": "2020-03-26T10:17:53.469833Z",
     "start_time": "2020-03-26T10:17:53.455870Z"
    },
    "pycharm": {
     "name": "#%%\n"
    }
   },
   "outputs": [],
   "source": [
    "df_user_scores['hit'] = df_user_scores.apply(test, axis=1)"
   ]
  },
  {
   "cell_type": "code",
   "execution_count": 22,
   "metadata": {
    "ExecuteTime": {
     "end_time": "2020-03-26T10:17:54.610805Z",
     "start_time": "2020-03-26T10:17:54.604798Z"
    }
   },
   "outputs": [
    {
     "data": {
      "text/html": [
       "<div>\n",
       "<style scoped>\n",
       "    .dataframe tbody tr th:only-of-type {\n",
       "        vertical-align: middle;\n",
       "    }\n",
       "\n",
       "    .dataframe tbody tr th {\n",
       "        vertical-align: top;\n",
       "    }\n",
       "\n",
       "    .dataframe thead th {\n",
       "        text-align: right;\n",
       "    }\n",
       "</style>\n",
       "<table border=\"1\" class=\"dataframe\">\n",
       "  <thead>\n",
       "    <tr style=\"text-align: right;\">\n",
       "      <th></th>\n",
       "      <th>user_id</th>\n",
       "      <th>avg_precision</th>\n",
       "      <th>avg_recall</th>\n",
       "      <th>avg_mrr</th>\n",
       "      <th>hit</th>\n",
       "    </tr>\n",
       "  </thead>\n",
       "  <tbody>\n",
       "    <tr>\n",
       "      <th>0</th>\n",
       "      <td>3379588</td>\n",
       "      <td>0.5</td>\n",
       "      <td>0.83</td>\n",
       "      <td>0.5</td>\n",
       "      <td>1</td>\n",
       "    </tr>\n",
       "    <tr>\n",
       "      <th>1</th>\n",
       "      <td>3349963</td>\n",
       "      <td>0.4</td>\n",
       "      <td>0.50</td>\n",
       "      <td>1.0</td>\n",
       "      <td>1</td>\n",
       "    </tr>\n",
       "    <tr>\n",
       "      <th>2</th>\n",
       "      <td>3367370</td>\n",
       "      <td>0.4</td>\n",
       "      <td>0.57</td>\n",
       "      <td>1.0</td>\n",
       "      <td>1</td>\n",
       "    </tr>\n",
       "    <tr>\n",
       "      <th>3</th>\n",
       "      <td>3395510</td>\n",
       "      <td>0.4</td>\n",
       "      <td>1.00</td>\n",
       "      <td>0.5</td>\n",
       "      <td>1</td>\n",
       "    </tr>\n",
       "    <tr>\n",
       "      <th>4</th>\n",
       "      <td>3347716</td>\n",
       "      <td>0.3</td>\n",
       "      <td>0.75</td>\n",
       "      <td>1.0</td>\n",
       "      <td>1</td>\n",
       "    </tr>\n",
       "  </tbody>\n",
       "</table>\n",
       "</div>"
      ],
      "text/plain": [
       "   user_id  avg_precision  avg_recall  avg_mrr  hit\n",
       "0  3379588            0.5        0.83      0.5    1\n",
       "1  3349963            0.4        0.50      1.0    1\n",
       "2  3367370            0.4        0.57      1.0    1\n",
       "3  3395510            0.4        1.00      0.5    1\n",
       "4  3347716            0.3        0.75      1.0    1"
      ]
     },
     "execution_count": 22,
     "metadata": {},
     "output_type": "execute_result"
    }
   ],
   "source": [
    "df_user_scores.head()"
   ]
  },
  {
   "cell_type": "code",
   "execution_count": 23,
   "metadata": {
    "ExecuteTime": {
     "end_time": "2020-03-26T10:17:55.248106Z",
     "start_time": "2020-03-26T10:17:55.139367Z"
    },
    "pycharm": {
     "name": "#%%\n"
    }
   },
   "outputs": [
    {
     "name": "stdout",
     "output_type": "stream",
     "text": [
      "Number of hits:  627\n"
     ]
    }
   ],
   "source": [
    "number_of_hits = len(df_user_scores[df_user_scores['hit'] == 1])\n",
    "print('Number of hits: ', number_of_hits)"
   ]
  },
  {
   "cell_type": "code",
   "execution_count": 24,
   "metadata": {
    "ExecuteTime": {
     "end_time": "2020-03-26T10:17:57.062253Z",
     "start_time": "2020-03-26T10:17:56.949553Z"
    },
    "pycharm": {
     "name": "#%%\n"
    }
   },
   "outputs": [
    {
     "data": {
      "text/plain": [
       "<matplotlib.axes._subplots.AxesSubplot at 0x1ef8d6f0788>"
      ]
     },
     "execution_count": 24,
     "metadata": {},
     "output_type": "execute_result"
    },
    {
     "data": {
      "image/png": "[encoded data removed]",
      "text/plain": [
       "<Figure size 432x288 with 1 Axes>"
      ]
     },
     "metadata": {
      "needs_background": "light"
     },
     "output_type": "display_data"
    }
   ],
   "source": [
    "sns.countplot(x='hit',data=df_user_scores, palette='terrain')"
   ]
  },
  {
   "cell_type": "code",
   "execution_count": 25,
   "metadata": {
    "ExecuteTime": {
     "end_time": "2020-03-26T10:17:58.787605Z",
     "start_time": "2020-03-26T10:17:58.780625Z"
    },
    "pycharm": {
     "name": "#%%\n"
    }
   },
   "outputs": [
    {
     "data": {
      "text/plain": [
       "<matplotlib.axes._subplots.AxesSubplot at 0x1ef8d75da08>"
      ]
     },
     "execution_count": 25,
     "metadata": {},
     "output_type": "execute_result"
    },
    {
     "data": {
      "image/png": "[encoded data removed]",
      "text/plain": [
       "<Figure size 432x288 with 1 Axes>"
      ]
     },
     "metadata": {
      "needs_background": "light"
     },
     "output_type": "display_data"
    }
   ],
   "source": [
    "sns.boxplot(x='hit', y='avg_precision', data=df_user_scores)"
   ]
  },
  {
   "cell_type": "code",
   "execution_count": 26,
   "metadata": {
    "ExecuteTime": {
     "end_time": "2020-03-26T10:18:05.398948Z",
     "start_time": "2020-03-26T10:18:01.751702Z"
    }
   },
   "outputs": [],
   "source": [
    "df_user_scores.drop(columns=['user_id'], inplace=True)\n",
    "df_user_scores.drop(columns=['hit'], inplace=True)"
   ]
  },
  {
   "cell_type": "code",
   "execution_count": 27,
   "metadata": {},
   "outputs": [
    {
     "data": {
      "text/plain": [
       "<seaborn.axisgrid.PairGrid at 0x1ef8d7db3c8>"
      ]
     },
     "execution_count": 27,
     "metadata": {},
     "output_type": "execute_result"
    },
    {
     "data": {
      "image/png": "[encoded data removed]",
      "text/plain": [
       "<Figure size 540x540 with 12 Axes>"
      ]
     },
     "metadata": {},
     "output_type": "display_data"
    }
   ],
   "source": [
    "import seaborn as sns; sns.set(style=\"ticks\", color_codes=True)\n",
    "sns.pairplot(df_user_scores, diag_kind=\"kde\")"
   ]
  },
  {
   "cell_type": "code",
   "execution_count": null,
   "metadata": {
    "pycharm": {
     "name": "#%%"
    }
   },
   "outputs": [],
   "source": []
  }
 ],
 "metadata": {
  "kernelspec": {
   "display_name": "Python 3",
   "language": "python",
   "name": "python3"
  },
  "language_info": {
   "codemirror_mode": {
    "name": "ipython",
    "version": 3
   },
   "file_extension": ".py",
   "mimetype": "text/x-python",
   "name": "python",
   "nbconvert_exporter": "python",
   "pygments_lexer": "ipython3",
   "version": "3.7.7"
  },
  "pycharm": {
   "stem_cell": {
    "cell_type": "raw",
    "source": [],
    "metadata": {
     "collapsed": false
    }
   }
  },
  "toc": {
   "base_numbering": 1,
   "nav_menu": {},
   "number_sections": true,
   "sideBar": true,
   "skip_h1_title": false,
   "title_cell": "Table of Contents",
   "title_sidebar": "Contents",
   "toc_cell": false,
   "toc_position": {},
   "toc_section_display": true,
   "toc_window_display": false
  },
  "varInspector": {
   "cols": {
    "lenName": 16,
    "lenType": 16,
    "lenVar": 40
   },
   "kernels_config": {
    "python": {
     "delete_cmd_postfix": "",
     "delete_cmd_prefix": "del ",
     "library": "var_list.py",
     "varRefreshCmd": "print(var_dic_list())"
    },
    "r": {
     "delete_cmd_postfix": ") ",
     "delete_cmd_prefix": "rm(",
     "library": "var_list.r",
     "varRefreshCmd": "cat(var_dic_list()) "
    }
   },
   "types_to_exclude": [
    "module",
    "function",
    "builtin_function_or_method",
    "instance",
    "_Feature"
   ],
   "window_display": false
  }
 },
 "nbformat": 4,
 "nbformat_minor": 2
}