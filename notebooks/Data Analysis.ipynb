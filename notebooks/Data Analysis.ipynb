{
 "cells": [
  {
   "cell_type": "code",
   "execution_count": 1,
   "metadata": {
    "ExecuteTime": {
     "end_time": "2020-03-26T14:47:27.577364Z",
     "start_time": "2020-03-26T14:47:27.572374Z"
    },
    "pycharm": {
     "is_executing": false,
     "name": "#%%\n"
    }
   },
   "outputs": [],
   "source": [
    "import helper_classes.DatabaseHelper as db_helper\n",
    "import pandas as pd\n",
    "import numpy as np\n",
    "import matplotlib.pyplot as plt\n",
    "import seaborn as sns"
   ]
  },
  {
   "cell_type": "markdown",
   "metadata": {},
   "source": [
    "Get user, item and session data from the database:"
   ]
  },
  {
   "cell_type": "code",
   "execution_count": 2,
   "metadata": {
    "ExecuteTime": {
     "end_time": "2020-03-26T14:47:31.363955Z",
     "start_time": "2020-03-26T14:47:30.259938Z"
    },
    "pycharm": {
     "is_executing": false,
     "name": "#%%\n"
    }
   },
   "outputs": [],
   "source": [
    "user_item_session_data = db_helper.fetch_user_item_seq_info()"
   ]
  },
  {
   "cell_type": "markdown",
   "metadata": {},
   "source": [
    "Create a dataframe which includes 'user_id' 'sequence_id' 'item_id'"
   ]
  },
  {
   "cell_type": "code",
   "execution_count": 3,
   "metadata": {
    "ExecuteTime": {
     "end_time": "2020-03-26T14:47:34.107291Z",
     "start_time": "2020-03-26T14:47:33.994589Z"
    },
    "pycharm": {
     "is_executing": false,
     "name": "#%%\n"
    }
   },
   "outputs": [
    {
     "data": {
      "text/html": [
       "<div>\n",
       "<style scoped>\n",
       "    .dataframe tbody tr th:only-of-type {\n",
       "        vertical-align: middle;\n",
       "    }\n",
       "\n",
       "    .dataframe tbody tr th {\n",
       "        vertical-align: top;\n",
       "    }\n",
       "\n",
       "    .dataframe thead th {\n",
       "        text-align: right;\n",
       "    }\n",
       "</style>\n",
       "<table border=\"1\" class=\"dataframe\">\n",
       "  <thead>\n",
       "    <tr style=\"text-align: right;\">\n",
       "      <th></th>\n",
       "      <th>user_id</th>\n",
       "      <th>session_id</th>\n",
       "      <th>item_id</th>\n",
       "    </tr>\n",
       "  </thead>\n",
       "  <tbody>\n",
       "    <tr>\n",
       "      <th>0</th>\n",
       "      <td>0</td>\n",
       "      <td>1</td>\n",
       "      <td>0</td>\n",
       "    </tr>\n",
       "    <tr>\n",
       "      <th>1</th>\n",
       "      <td>596178</td>\n",
       "      <td>92</td>\n",
       "      <td>0</td>\n",
       "    </tr>\n",
       "    <tr>\n",
       "      <th>2</th>\n",
       "      <td>596178</td>\n",
       "      <td>92</td>\n",
       "      <td>0</td>\n",
       "    </tr>\n",
       "    <tr>\n",
       "      <th>3</th>\n",
       "      <td>715904</td>\n",
       "      <td>217</td>\n",
       "      <td>1432</td>\n",
       "    </tr>\n",
       "    <tr>\n",
       "      <th>4</th>\n",
       "      <td>715904</td>\n",
       "      <td>217</td>\n",
       "      <td>0</td>\n",
       "    </tr>\n",
       "  </tbody>\n",
       "</table>\n",
       "</div>"
      ],
      "text/plain": [
       "   user_id  session_id  item_id\n",
       "0        0           1        0\n",
       "1   596178          92        0\n",
       "2   596178          92        0\n",
       "3   715904         217     1432\n",
       "4   715904         217        0"
      ]
     },
     "execution_count": 3,
     "metadata": {},
     "output_type": "execute_result"
    }
   ],
   "source": [
    "user_item_seq_df = pd.DataFrame(user_item_session_data, columns=['user_id', \n",
    "                                                                 'session_id',\n",
    "                                                                 'item_id'])\n",
    "user_list_df = user_item_seq_df.sort_values(by=['user_id', 'session_id'], ignore_index=True)\n",
    "user_list_df.head(5)"
   ]
  },
  {
   "cell_type": "markdown",
   "metadata": {},
   "source": [
    "Some statistics:"
   ]
  },
  {
   "cell_type": "code",
   "execution_count": 4,
   "metadata": {
    "ExecuteTime": {
     "end_time": "2020-03-26T14:47:36.601386Z",
     "start_time": "2020-03-26T14:47:36.596421Z"
    }
   },
   "outputs": [
    {
     "name": "stdout",
     "output_type": "stream",
     "text": [
      "User, Item, Seqeunce DataFrame size with item_id = 0 >> 213036\n"
     ]
    }
   ],
   "source": [
    "print('User, Item, Seqeunce DataFrame size with item_id = 0 >> ' + str(user_item_seq_df.size))"
   ]
  },
  {
   "cell_type": "code",
   "execution_count": 5,
   "metadata": {
    "ExecuteTime": {
     "end_time": "2020-03-26T14:47:39.071669Z",
     "start_time": "2020-03-26T14:47:39.062658Z"
    }
   },
   "outputs": [
    {
     "name": "stdout",
     "output_type": "stream",
     "text": [
      "User, Item, Seqeunce DataFrame size without item_id = 0 >> 96240\n"
     ]
    }
   ],
   "source": [
    "user_item_seq_df_no_zero = user_item_seq_df[user_item_seq_df['item_id'] > 0]\n",
    "print('User, Item, Seqeunce DataFrame size without item_id = 0 >> ' + str(user_item_seq_df_no_zero.size))"
   ]
  },
  {
   "cell_type": "markdown",
   "metadata": {},
   "source": [
    "Unique numbers including item_id = 0"
   ]
  },
  {
   "cell_type": "code",
   "execution_count": 6,
   "metadata": {
    "ExecuteTime": {
     "end_time": "2020-03-26T14:47:41.444175Z",
     "start_time": "2020-03-26T14:47:41.428200Z"
    }
   },
   "outputs": [
    {
     "name": "stdout",
     "output_type": "stream",
     "text": [
      "Unique User Count: 32915\n",
      "Unique Session Count: 599\n",
      "Unique Item Count: 1523\n"
     ]
    }
   ],
   "source": [
    "unique_users = user_item_seq_df['user_id'].unique()\n",
    "unique_sessions = user_item_seq_df['session_id'].unique()\n",
    "unique_items = user_item_seq_df['item_id'].unique()\n",
    "print('Unique User Count: ' + str(unique_users.size))\n",
    "print('Unique Session Count: ' + str(unique_sessions.size))\n",
    "print('Unique Item Count: ' + str(unique_items.size))"
   ]
  },
  {
   "cell_type": "markdown",
   "metadata": {},
   "source": [
    "Unique numbers excluding item_id = 0"
   ]
  },
  {
   "cell_type": "code",
   "execution_count": 7,
   "metadata": {
    "ExecuteTime": {
     "end_time": "2020-03-26T14:47:46.286990Z",
     "start_time": "2020-03-26T14:47:46.276013Z"
    }
   },
   "outputs": [
    {
     "name": "stdout",
     "output_type": "stream",
     "text": [
      "Unique User Count: 17237\n",
      "Unique Session Count: 456\n",
      "Unique Item Count: 1522\n"
     ]
    }
   ],
   "source": [
    "unique_users = user_item_seq_df_no_zero['user_id'].unique()\n",
    "unique_sessions = user_item_seq_df_no_zero['session_id'].unique()\n",
    "unique_items = user_item_seq_df_no_zero['item_id'].unique()\n",
    "print('Unique User Count: ' + str(unique_users.size))\n",
    "print('Unique Session Count: ' + str(unique_sessions.size))\n",
    "print('Unique Item Count: ' + str(unique_items.size))"
   ]
  },
  {
   "cell_type": "markdown",
   "metadata": {},
   "source": [
    "Checking all time popular items"
   ]
  },
  {
   "cell_type": "code",
   "execution_count": 8,
   "metadata": {
    "ExecuteTime": {
     "end_time": "2020-03-26T14:47:48.656240Z",
     "start_time": "2020-03-26T14:47:48.626318Z"
    },
    "pycharm": {
     "is_executing": false,
     "name": "#%%\n"
    }
   },
   "outputs": [
    {
     "data": {
      "text/html": [
       "<div>\n",
       "<style scoped>\n",
       "    .dataframe tbody tr th:only-of-type {\n",
       "        vertical-align: middle;\n",
       "    }\n",
       "\n",
       "    .dataframe tbody tr th {\n",
       "        vertical-align: top;\n",
       "    }\n",
       "\n",
       "    .dataframe thead th {\n",
       "        text-align: right;\n",
       "    }\n",
       "</style>\n",
       "<table border=\"1\" class=\"dataframe\">\n",
       "  <thead>\n",
       "    <tr style=\"text-align: right;\">\n",
       "      <th></th>\n",
       "      <th>user_id</th>\n",
       "      <th>session_id</th>\n",
       "      <th>item_id</th>\n",
       "      <th>times_clicked</th>\n",
       "    </tr>\n",
       "  </thead>\n",
       "  <tbody>\n",
       "    <tr>\n",
       "      <th>21494</th>\n",
       "      <td>3345651</td>\n",
       "      <td>1</td>\n",
       "      <td>6777</td>\n",
       "      <td>1698</td>\n",
       "    </tr>\n",
       "    <tr>\n",
       "      <th>28266</th>\n",
       "      <td>3351875</td>\n",
       "      <td>1</td>\n",
       "      <td>6777</td>\n",
       "      <td>1698</td>\n",
       "    </tr>\n",
       "    <tr>\n",
       "      <th>28376</th>\n",
       "      <td>3351958</td>\n",
       "      <td>1</td>\n",
       "      <td>6777</td>\n",
       "      <td>1698</td>\n",
       "    </tr>\n",
       "    <tr>\n",
       "      <th>28374</th>\n",
       "      <td>3351956</td>\n",
       "      <td>1</td>\n",
       "      <td>6777</td>\n",
       "      <td>1698</td>\n",
       "    </tr>\n",
       "    <tr>\n",
       "      <th>28373</th>\n",
       "      <td>3351955</td>\n",
       "      <td>1</td>\n",
       "      <td>6777</td>\n",
       "      <td>1698</td>\n",
       "    </tr>\n",
       "    <tr>\n",
       "      <th>...</th>\n",
       "      <td>...</td>\n",
       "      <td>...</td>\n",
       "      <td>...</td>\n",
       "      <td>...</td>\n",
       "    </tr>\n",
       "    <tr>\n",
       "      <th>29620</th>\n",
       "      <td>3353020</td>\n",
       "      <td>1</td>\n",
       "      <td>7080</td>\n",
       "      <td>1</td>\n",
       "    </tr>\n",
       "    <tr>\n",
       "      <th>28559</th>\n",
       "      <td>3352093</td>\n",
       "      <td>1</td>\n",
       "      <td>956</td>\n",
       "      <td>1</td>\n",
       "    </tr>\n",
       "    <tr>\n",
       "      <th>36323</th>\n",
       "      <td>3367879</td>\n",
       "      <td>1</td>\n",
       "      <td>6867</td>\n",
       "      <td>1</td>\n",
       "    </tr>\n",
       "    <tr>\n",
       "      <th>19538</th>\n",
       "      <td>3343701</td>\n",
       "      <td>1</td>\n",
       "      <td>101</td>\n",
       "      <td>1</td>\n",
       "    </tr>\n",
       "    <tr>\n",
       "      <th>53167</th>\n",
       "      <td>3387066</td>\n",
       "      <td>1</td>\n",
       "      <td>4788</td>\n",
       "      <td>1</td>\n",
       "    </tr>\n",
       "  </tbody>\n",
       "</table>\n",
       "<p>32080 rows × 4 columns</p>\n",
       "</div>"
      ],
      "text/plain": [
       "       user_id  session_id  item_id  times_clicked\n",
       "21494  3345651           1     6777           1698\n",
       "28266  3351875           1     6777           1698\n",
       "28376  3351958           1     6777           1698\n",
       "28374  3351956           1     6777           1698\n",
       "28373  3351955           1     6777           1698\n",
       "...        ...         ...      ...            ...\n",
       "29620  3353020           1     7080              1\n",
       "28559  3352093           1      956              1\n",
       "36323  3367879           1     6867              1\n",
       "19538  3343701           1      101              1\n",
       "53167  3387066           1     4788              1\n",
       "\n",
       "[32080 rows x 4 columns]"
      ]
     },
     "execution_count": 8,
     "metadata": {},
     "output_type": "execute_result"
    }
   ],
   "source": [
    "user_item_seq_df = user_item_seq_df_no_zero.copy() # Removing item_id = 0 for the rest of the notebook.\n",
    "\n",
    "user_item_seq_df['times_clicked'] = user_item_seq_df.groupby('item_id')['item_id'].transform('count')\n",
    "user_item_seq_df.sort_values(by='times_clicked', ascending=False)"
   ]
  },
  {
   "cell_type": "code",
   "execution_count": 9,
   "metadata": {
    "ExecuteTime": {
     "end_time": "2020-03-26T14:47:51.094673Z",
     "start_time": "2020-03-26T14:47:51.075705Z"
    },
    "pycharm": {
     "is_executing": false,
     "name": "#%%\n"
    }
   },
   "outputs": [
    {
     "name": "stdout",
     "output_type": "stream",
     "text": [
      "Most popular items of all times:\n",
      "            1. item 6777 -> clicked 1698 times.\n",
      "            2. item 6823 -> clicked 1256 times.\n",
      "            3. item 4108 -> clicked 805 times.\n"
     ]
    },
    {
     "data": {
      "text/html": [
       "<div>\n",
       "<style scoped>\n",
       "    .dataframe tbody tr th:only-of-type {\n",
       "        vertical-align: middle;\n",
       "    }\n",
       "\n",
       "    .dataframe tbody tr th {\n",
       "        vertical-align: top;\n",
       "    }\n",
       "\n",
       "    .dataframe thead th {\n",
       "        text-align: right;\n",
       "    }\n",
       "</style>\n",
       "<table border=\"1\" class=\"dataframe\">\n",
       "  <thead>\n",
       "    <tr style=\"text-align: right;\">\n",
       "      <th></th>\n",
       "      <th>user_id</th>\n",
       "      <th>session_id</th>\n",
       "      <th>item_id</th>\n",
       "      <th>times_clicked</th>\n",
       "    </tr>\n",
       "  </thead>\n",
       "  <tbody>\n",
       "    <tr>\n",
       "      <th>0</th>\n",
       "      <td>2001469</td>\n",
       "      <td>5</td>\n",
       "      <td>6777</td>\n",
       "      <td>1698</td>\n",
       "    </tr>\n",
       "    <tr>\n",
       "      <th>1</th>\n",
       "      <td>1529905</td>\n",
       "      <td>695</td>\n",
       "      <td>6823</td>\n",
       "      <td>1256</td>\n",
       "    </tr>\n",
       "    <tr>\n",
       "      <th>2</th>\n",
       "      <td>1179818</td>\n",
       "      <td>81</td>\n",
       "      <td>4108</td>\n",
       "      <td>805</td>\n",
       "    </tr>\n",
       "    <tr>\n",
       "      <th>3</th>\n",
       "      <td>715904</td>\n",
       "      <td>236</td>\n",
       "      <td>4646</td>\n",
       "      <td>768</td>\n",
       "    </tr>\n",
       "    <tr>\n",
       "      <th>4</th>\n",
       "      <td>1529905</td>\n",
       "      <td>694</td>\n",
       "      <td>6990</td>\n",
       "      <td>551</td>\n",
       "    </tr>\n",
       "  </tbody>\n",
       "</table>\n",
       "</div>"
      ],
      "text/plain": [
       "   user_id  session_id  item_id  times_clicked\n",
       "0  2001469           5     6777           1698\n",
       "1  1529905         695     6823           1256\n",
       "2  1179818          81     4108            805\n",
       "3   715904         236     4646            768\n",
       "4  1529905         694     6990            551"
      ]
     },
     "execution_count": 9,
     "metadata": {},
     "output_type": "execute_result"
    }
   ],
   "source": [
    "pop_all_times = user_item_seq_df.drop_duplicates('item_id').sort_values(by='times_clicked', ascending=False).reset_index(drop=True)\n",
    "\n",
    "print(\"\"\"Most popular items of all times:\n",
    "            1. item 6777 -> clicked 1698 times.\n",
    "            2. item 6823 -> clicked 1256 times.\n",
    "            3. item 4108 -> clicked 805 times.\"\"\")\n",
    "pop_all_times.head()"
   ]
  },
  {
   "cell_type": "code",
   "execution_count": 10,
   "metadata": {
    "ExecuteTime": {
     "end_time": "2020-03-26T14:47:53.473084Z",
     "start_time": "2020-03-26T14:47:53.456131Z"
    },
    "pycharm": {
     "is_executing": false,
     "name": "#%%\n"
    }
   },
   "outputs": [
    {
     "data": {
      "text/html": [
       "<div>\n",
       "<style scoped>\n",
       "    .dataframe tbody tr th:only-of-type {\n",
       "        vertical-align: middle;\n",
       "    }\n",
       "\n",
       "    .dataframe tbody tr th {\n",
       "        vertical-align: top;\n",
       "    }\n",
       "\n",
       "    .dataframe thead th {\n",
       "        text-align: right;\n",
       "    }\n",
       "</style>\n",
       "<table border=\"1\" class=\"dataframe\">\n",
       "  <thead>\n",
       "    <tr style=\"text-align: right;\">\n",
       "      <th></th>\n",
       "      <th>user_id</th>\n",
       "      <th>session_id</th>\n",
       "      <th>item_id</th>\n",
       "    </tr>\n",
       "  </thead>\n",
       "  <tbody>\n",
       "    <tr>\n",
       "      <th>3</th>\n",
       "      <td>715904</td>\n",
       "      <td>224</td>\n",
       "      <td>5940</td>\n",
       "    </tr>\n",
       "    <tr>\n",
       "      <th>6</th>\n",
       "      <td>715904</td>\n",
       "      <td>225</td>\n",
       "      <td>6807</td>\n",
       "    </tr>\n",
       "    <tr>\n",
       "      <th>7</th>\n",
       "      <td>715904</td>\n",
       "      <td>225</td>\n",
       "      <td>6100</td>\n",
       "    </tr>\n",
       "    <tr>\n",
       "      <th>9</th>\n",
       "      <td>715904</td>\n",
       "      <td>225</td>\n",
       "      <td>6809</td>\n",
       "    </tr>\n",
       "    <tr>\n",
       "      <th>10</th>\n",
       "      <td>715904</td>\n",
       "      <td>225</td>\n",
       "      <td>6808</td>\n",
       "    </tr>\n",
       "  </tbody>\n",
       "</table>\n",
       "</div>"
      ],
      "text/plain": [
       "    user_id  session_id  item_id\n",
       "3    715904         224     5940\n",
       "6    715904         225     6807\n",
       "7    715904         225     6100\n",
       "9    715904         225     6809\n",
       "10   715904         225     6808"
      ]
     },
     "execution_count": 10,
     "metadata": {},
     "output_type": "execute_result"
    }
   ],
   "source": [
    "user_item_seq_df.drop('times_clicked', axis=1, inplace=True)\n",
    "user_item_seq_df.head(5)"
   ]
  },
  {
   "cell_type": "code",
   "execution_count": 11,
   "metadata": {
    "ExecuteTime": {
     "end_time": "2020-03-26T14:47:58.148716Z",
     "start_time": "2020-03-26T14:47:55.929518Z"
    },
    "pycharm": {
     "is_executing": false,
     "name": "#%%\n"
    }
   },
   "outputs": [
    {
     "data": {
      "text/html": [
       "<div>\n",
       "<style scoped>\n",
       "    .dataframe tbody tr th:only-of-type {\n",
       "        vertical-align: middle;\n",
       "    }\n",
       "\n",
       "    .dataframe tbody tr th {\n",
       "        vertical-align: top;\n",
       "    }\n",
       "\n",
       "    .dataframe thead th {\n",
       "        text-align: right;\n",
       "    }\n",
       "</style>\n",
       "<table border=\"1\" class=\"dataframe\">\n",
       "  <thead>\n",
       "    <tr style=\"text-align: right;\">\n",
       "      <th></th>\n",
       "      <th></th>\n",
       "      <th>item_sequence</th>\n",
       "    </tr>\n",
       "    <tr>\n",
       "      <th>user_id</th>\n",
       "      <th>session_id</th>\n",
       "      <th></th>\n",
       "    </tr>\n",
       "  </thead>\n",
       "  <tbody>\n",
       "    <tr>\n",
       "      <th rowspan=\"15\" valign=\"top\">715904</th>\n",
       "      <th>217</th>\n",
       "      <td>[1432, 5932, 7070, 2200, 2201, 6198, 7078, 686...</td>\n",
       "    </tr>\n",
       "    <tr>\n",
       "      <th>218</th>\n",
       "      <td>[5946, 5582, 5924, 7117, 5612, 5583, 3819, 382...</td>\n",
       "    </tr>\n",
       "    <tr>\n",
       "      <th>219</th>\n",
       "      <td>[7092]</td>\n",
       "    </tr>\n",
       "    <tr>\n",
       "      <th>220</th>\n",
       "      <td>[5706, 5706, 2067, 725, 725, 2313, 2313, 2313,...</td>\n",
       "    </tr>\n",
       "    <tr>\n",
       "      <th>221</th>\n",
       "      <td>[5710, 4710, 5709, 5708, 5714, 6908, 5715, 6971]</td>\n",
       "    </tr>\n",
       "    <tr>\n",
       "      <th>222</th>\n",
       "      <td>[7136]</td>\n",
       "    </tr>\n",
       "    <tr>\n",
       "      <th>223</th>\n",
       "      <td>[7137, 7136, 5612, 5583, 5613, 1507, 5577]</td>\n",
       "    </tr>\n",
       "    <tr>\n",
       "      <th>224</th>\n",
       "      <td>[5940]</td>\n",
       "    </tr>\n",
       "    <tr>\n",
       "      <th>225</th>\n",
       "      <td>[6807, 6100, 6809, 6808, 6806]</td>\n",
       "    </tr>\n",
       "    <tr>\n",
       "      <th>226</th>\n",
       "      <td>[6971, 5714, 3280]</td>\n",
       "    </tr>\n",
       "    <tr>\n",
       "      <th>227</th>\n",
       "      <td>[6627, 6632, 7134, 5710, 4710]</td>\n",
       "    </tr>\n",
       "    <tr>\n",
       "      <th>228</th>\n",
       "      <td>[7026, 6247, 6247, 6247, 6247, 5692, 5646, 261...</td>\n",
       "    </tr>\n",
       "    <tr>\n",
       "      <th>229</th>\n",
       "      <td>[5729, 592, 592, 592, 295, 295, 4645, 4645, 59...</td>\n",
       "    </tr>\n",
       "    <tr>\n",
       "      <th>230</th>\n",
       "      <td>[7172, 7173, 7092, 7158, 7166, 6489, 7040, 716...</td>\n",
       "    </tr>\n",
       "    <tr>\n",
       "      <th>231</th>\n",
       "      <td>[6942, 6504, 6470, 5695, 5682]</td>\n",
       "    </tr>\n",
       "  </tbody>\n",
       "</table>\n",
       "</div>"
      ],
      "text/plain": [
       "                                                        item_sequence\n",
       "user_id session_id                                                   \n",
       "715904  217         [1432, 5932, 7070, 2200, 2201, 6198, 7078, 686...\n",
       "        218         [5946, 5582, 5924, 7117, 5612, 5583, 3819, 382...\n",
       "        219                                                    [7092]\n",
       "        220         [5706, 5706, 2067, 725, 725, 2313, 2313, 2313,...\n",
       "        221          [5710, 4710, 5709, 5708, 5714, 6908, 5715, 6971]\n",
       "        222                                                    [7136]\n",
       "        223                [7137, 7136, 5612, 5583, 5613, 1507, 5577]\n",
       "        224                                                    [5940]\n",
       "        225                            [6807, 6100, 6809, 6808, 6806]\n",
       "        226                                        [6971, 5714, 3280]\n",
       "        227                            [6627, 6632, 7134, 5710, 4710]\n",
       "        228         [7026, 6247, 6247, 6247, 6247, 5692, 5646, 261...\n",
       "        229         [5729, 592, 592, 592, 295, 295, 4645, 4645, 59...\n",
       "        230         [7172, 7173, 7092, 7158, 7166, 6489, 7040, 716...\n",
       "        231                            [6942, 6504, 6470, 5695, 5682]"
      ]
     },
     "execution_count": 11,
     "metadata": {},
     "output_type": "execute_result"
    }
   ],
   "source": [
    "sequence_df = user_item_seq_df.groupby(['user_id','session_id']).agg(lambda x: list(map(str, x)))\n",
    "sequence_df.rename(columns={'item_id':'item_sequence'}, inplace=True)\n",
    "sequence_df.head(15)"
   ]
  },
  {
   "cell_type": "code",
   "execution_count": 12,
   "metadata": {
    "ExecuteTime": {
     "end_time": "2020-03-26T14:48:01.086356Z",
     "start_time": "2020-03-26T14:48:01.045469Z"
    },
    "pycharm": {
     "is_executing": false,
     "name": "#%%\n"
    }
   },
   "outputs": [
    {
     "data": {
      "text/html": [
       "<div>\n",
       "<style scoped>\n",
       "    .dataframe tbody tr th:only-of-type {\n",
       "        vertical-align: middle;\n",
       "    }\n",
       "\n",
       "    .dataframe tbody tr th {\n",
       "        vertical-align: top;\n",
       "    }\n",
       "\n",
       "    .dataframe thead th {\n",
       "        text-align: right;\n",
       "    }\n",
       "</style>\n",
       "<table border=\"1\" class=\"dataframe\">\n",
       "  <thead>\n",
       "    <tr style=\"text-align: right;\">\n",
       "      <th></th>\n",
       "      <th></th>\n",
       "      <th>item_sequence</th>\n",
       "      <th>sequence_length</th>\n",
       "    </tr>\n",
       "    <tr>\n",
       "      <th>user_id</th>\n",
       "      <th>session_id</th>\n",
       "      <th></th>\n",
       "      <th></th>\n",
       "    </tr>\n",
       "  </thead>\n",
       "  <tbody>\n",
       "    <tr>\n",
       "      <th rowspan=\"10\" valign=\"top\">715904</th>\n",
       "      <th>217</th>\n",
       "      <td>[1432, 5932, 7070, 2200, 2201, 6198, 7078, 686...</td>\n",
       "      <td>18</td>\n",
       "    </tr>\n",
       "    <tr>\n",
       "      <th>218</th>\n",
       "      <td>[5946, 5582, 5924, 7117, 5612, 5583, 3819, 382...</td>\n",
       "      <td>23</td>\n",
       "    </tr>\n",
       "    <tr>\n",
       "      <th>219</th>\n",
       "      <td>[7092]</td>\n",
       "      <td>1</td>\n",
       "    </tr>\n",
       "    <tr>\n",
       "      <th>220</th>\n",
       "      <td>[5706, 5706, 2067, 725, 725, 2313, 2313, 2313,...</td>\n",
       "      <td>67</td>\n",
       "    </tr>\n",
       "    <tr>\n",
       "      <th>221</th>\n",
       "      <td>[5710, 4710, 5709, 5708, 5714, 6908, 5715, 6971]</td>\n",
       "      <td>8</td>\n",
       "    </tr>\n",
       "    <tr>\n",
       "      <th>222</th>\n",
       "      <td>[7136]</td>\n",
       "      <td>1</td>\n",
       "    </tr>\n",
       "    <tr>\n",
       "      <th>223</th>\n",
       "      <td>[7137, 7136, 5612, 5583, 5613, 1507, 5577]</td>\n",
       "      <td>7</td>\n",
       "    </tr>\n",
       "    <tr>\n",
       "      <th>224</th>\n",
       "      <td>[5940]</td>\n",
       "      <td>1</td>\n",
       "    </tr>\n",
       "    <tr>\n",
       "      <th>225</th>\n",
       "      <td>[6807, 6100, 6809, 6808, 6806]</td>\n",
       "      <td>5</td>\n",
       "    </tr>\n",
       "    <tr>\n",
       "      <th>226</th>\n",
       "      <td>[6971, 5714, 3280]</td>\n",
       "      <td>3</td>\n",
       "    </tr>\n",
       "  </tbody>\n",
       "</table>\n",
       "</div>"
      ],
      "text/plain": [
       "                                                        item_sequence  \\\n",
       "user_id session_id                                                      \n",
       "715904  217         [1432, 5932, 7070, 2200, 2201, 6198, 7078, 686...   \n",
       "        218         [5946, 5582, 5924, 7117, 5612, 5583, 3819, 382...   \n",
       "        219                                                    [7092]   \n",
       "        220         [5706, 5706, 2067, 725, 725, 2313, 2313, 2313,...   \n",
       "        221          [5710, 4710, 5709, 5708, 5714, 6908, 5715, 6971]   \n",
       "        222                                                    [7136]   \n",
       "        223                [7137, 7136, 5612, 5583, 5613, 1507, 5577]   \n",
       "        224                                                    [5940]   \n",
       "        225                            [6807, 6100, 6809, 6808, 6806]   \n",
       "        226                                        [6971, 5714, 3280]   \n",
       "\n",
       "                    sequence_length  \n",
       "user_id session_id                   \n",
       "715904  217                      18  \n",
       "        218                      23  \n",
       "        219                       1  \n",
       "        220                      67  \n",
       "        221                       8  \n",
       "        222                       1  \n",
       "        223                       7  \n",
       "        224                       1  \n",
       "        225                       5  \n",
       "        226                       3  "
      ]
     },
     "execution_count": 12,
     "metadata": {},
     "output_type": "execute_result"
    }
   ],
   "source": [
    "sequence_df['sequence_length'] = sequence_df['item_sequence'].str.len()\n",
    "sequence_df.head(10)"
   ]
  },
  {
   "cell_type": "code",
   "execution_count": 13,
   "metadata": {
    "ExecuteTime": {
     "end_time": "2020-03-26T14:48:03.608934Z",
     "start_time": "2020-03-26T14:48:03.575025Z"
    },
    "pycharm": {
     "is_executing": false,
     "name": "#%%\n"
    }
   },
   "outputs": [
    {
     "data": {
      "text/html": [
       "<div>\n",
       "<style scoped>\n",
       "    .dataframe tbody tr th:only-of-type {\n",
       "        vertical-align: middle;\n",
       "    }\n",
       "\n",
       "    .dataframe tbody tr th {\n",
       "        vertical-align: top;\n",
       "    }\n",
       "\n",
       "    .dataframe thead th {\n",
       "        text-align: right;\n",
       "    }\n",
       "</style>\n",
       "<table border=\"1\" class=\"dataframe\">\n",
       "  <thead>\n",
       "    <tr style=\"text-align: right;\">\n",
       "      <th></th>\n",
       "      <th></th>\n",
       "      <th>item_sequence</th>\n",
       "      <th>sequence_length</th>\n",
       "    </tr>\n",
       "    <tr>\n",
       "      <th>user_id</th>\n",
       "      <th>session_id</th>\n",
       "      <th></th>\n",
       "      <th></th>\n",
       "    </tr>\n",
       "  </thead>\n",
       "  <tbody>\n",
       "    <tr>\n",
       "      <th>3293771</th>\n",
       "      <th>60</th>\n",
       "      <td>[3838, 7183, 5709, 5709, 5712, 5712, 5711, 571...</td>\n",
       "      <td>109</td>\n",
       "    </tr>\n",
       "    <tr>\n",
       "      <th>1529905</th>\n",
       "      <th>706</th>\n",
       "      <td>[6812, 7070, 6609, 6805, 6804, 7092, 6969, 680...</td>\n",
       "      <td>107</td>\n",
       "    </tr>\n",
       "    <tr>\n",
       "      <th>3293771</th>\n",
       "      <th>41</th>\n",
       "      <td>[3341, 5711, 5712, 6943, 3282, 5669, 5678, 567...</td>\n",
       "      <td>99</td>\n",
       "    </tr>\n",
       "    <tr>\n",
       "      <th>3299140</th>\n",
       "      <th>15</th>\n",
       "      <td>[5692, 7026, 2618, 5646, 6247, 3326, 7058, 569...</td>\n",
       "      <td>92</td>\n",
       "    </tr>\n",
       "    <tr>\n",
       "      <th>715904</th>\n",
       "      <th>230</th>\n",
       "      <td>[7172, 7173, 7092, 7158, 7166, 6489, 7040, 716...</td>\n",
       "      <td>77</td>\n",
       "    </tr>\n",
       "    <tr>\n",
       "      <th>3238518</th>\n",
       "      <th>8</th>\n",
       "      <td>[6609, 6802, 3840, 3127, 3966, 5238, 4646, 324...</td>\n",
       "      <td>69</td>\n",
       "    </tr>\n",
       "    <tr>\n",
       "      <th>715904</th>\n",
       "      <th>220</th>\n",
       "      <td>[5706, 5706, 2067, 725, 725, 2313, 2313, 2313,...</td>\n",
       "      <td>67</td>\n",
       "    </tr>\n",
       "    <tr>\n",
       "      <th>3237109</th>\n",
       "      <th>63</th>\n",
       "      <td>[6307, 3966, 49, 2505, 5238, 4646, 3678, 3857,...</td>\n",
       "      <td>58</td>\n",
       "    </tr>\n",
       "    <tr>\n",
       "      <th>1529905</th>\n",
       "      <th>721</th>\n",
       "      <td>[7184, 632, 3391, 5704, 7075, 7075, 2384, 2384...</td>\n",
       "      <td>52</td>\n",
       "    </tr>\n",
       "    <tr>\n",
       "      <th>3387073</th>\n",
       "      <th>1</th>\n",
       "      <td>[1252, 1428, 383, 6199, 5420, 5508, 4708, 6969...</td>\n",
       "      <td>40</td>\n",
       "    </tr>\n",
       "  </tbody>\n",
       "</table>\n",
       "</div>"
      ],
      "text/plain": [
       "                                                        item_sequence  \\\n",
       "user_id session_id                                                      \n",
       "3293771 60          [3838, 7183, 5709, 5709, 5712, 5712, 5711, 571...   \n",
       "1529905 706         [6812, 7070, 6609, 6805, 6804, 7092, 6969, 680...   \n",
       "3293771 41          [3341, 5711, 5712, 6943, 3282, 5669, 5678, 567...   \n",
       "3299140 15          [5692, 7026, 2618, 5646, 6247, 3326, 7058, 569...   \n",
       "715904  230         [7172, 7173, 7092, 7158, 7166, 6489, 7040, 716...   \n",
       "3238518 8           [6609, 6802, 3840, 3127, 3966, 5238, 4646, 324...   \n",
       "715904  220         [5706, 5706, 2067, 725, 725, 2313, 2313, 2313,...   \n",
       "3237109 63          [6307, 3966, 49, 2505, 5238, 4646, 3678, 3857,...   \n",
       "1529905 721         [7184, 632, 3391, 5704, 7075, 7075, 2384, 2384...   \n",
       "3387073 1           [1252, 1428, 383, 6199, 5420, 5508, 4708, 6969...   \n",
       "\n",
       "                    sequence_length  \n",
       "user_id session_id                   \n",
       "3293771 60                      109  \n",
       "1529905 706                     107  \n",
       "3293771 41                       99  \n",
       "3299140 15                       92  \n",
       "715904  230                      77  \n",
       "3238518 8                        69  \n",
       "715904  220                      67  \n",
       "3237109 63                       58  \n",
       "1529905 721                      52  \n",
       "3387073 1                        40  "
      ]
     },
     "execution_count": 13,
     "metadata": {},
     "output_type": "execute_result"
    }
   ],
   "source": [
    "sequence_df.sort_values(by='sequence_length', ascending=False, inplace=True)\n",
    "sequence_df.head(10)"
   ]
  },
  {
   "cell_type": "code",
   "execution_count": 14,
   "metadata": {
    "ExecuteTime": {
     "end_time": "2020-03-26T14:48:06.199282Z",
     "start_time": "2020-03-26T14:48:06.146391Z"
    },
    "pycharm": {
     "is_executing": false,
     "name": "#%%\n"
    }
   },
   "outputs": [
    {
     "name": "stdout",
     "output_type": "stream",
     "text": [
      "Mean Sequence Length for the sequences > 1:  sequence_length    3.581467\n",
      "dtype: float64\n"
     ]
    }
   ],
   "source": [
    "test = sequence_df[sequence_df['sequence_length'] > 1]\n",
    "print(\"Mean Sequence Length for the sequences > 1: \", test.mean())"
   ]
  },
  {
   "cell_type": "code",
   "execution_count": 15,
   "metadata": {
    "ExecuteTime": {
     "end_time": "2020-03-26T14:48:08.586305Z",
     "start_time": "2020-03-26T14:48:08.581303Z"
    }
   },
   "outputs": [
    {
     "name": "stdout",
     "output_type": "stream",
     "text": [
      "After restricting sequences to have more than 1 item:  4554\n"
     ]
    }
   ],
   "source": [
    "print('After restricting sequences to have more than 1 item: ', len(test))"
   ]
  },
  {
   "cell_type": "code",
   "execution_count": 16,
   "metadata": {
    "ExecuteTime": {
     "end_time": "2020-03-26T10:21:55.748942Z",
     "start_time": "2020-03-26T10:21:55.623276Z"
    },
    "pycharm": {
     "is_executing": false,
     "name": "#%%\n"
    }
   },
   "outputs": [
    {
     "name": "stdout",
     "output_type": "stream",
     "text": [
      "Sequence Length =  1  >> Sequence Count:  15770\n",
      "Sequence Length =  2  >> Sequence Count:  2397\n",
      "Sequence Length =  3  >> Sequence Count:  900\n",
      "Sequence Length =  4  >> Sequence Count:  442\n",
      "Sequence Length =  5  >> Sequence Count:  252\n",
      "Sequence Length =  6  >> Sequence Count:  159\n",
      "Sequence Length =  7  >> Sequence Count:  117\n",
      "Sequence Length =  8  >> Sequence Count:  64\n",
      "Sequence Length =  9  >> Sequence Count:  65\n",
      "Sequence Length =  10  >> Sequence Count:  33\n",
      "Sequence Length =  11  >> Sequence Count:  25\n",
      "Sequence Length =  12  >> Sequence Count:  19\n",
      "Sequence Length =  13  >> Sequence Count:  13\n",
      "Sequence Length =  14  >> Sequence Count:  14\n",
      "Sequence Length =  15  >> Sequence Count:  4\n",
      "Sequence Length =  16  >> Sequence Count:  8\n",
      "Sequence Length =  17  >> Sequence Count:  4\n",
      "Sequence Length =  18  >> Sequence Count:  2\n",
      "Sequence Length =  19  >> Sequence Count:  4\n",
      "Sequence Length =  20  >> Sequence Count:  3\n",
      "Sequence Length =  22  >> Sequence Count:  1\n",
      "Sequence Length =  23  >> Sequence Count:  4\n",
      "Sequence Length =  24  >> Sequence Count:  1\n",
      "Sequence Length =  25  >> Sequence Count:  2\n",
      "Sequence Length =  26  >> Sequence Count:  1\n",
      "Sequence Length =  27  >> Sequence Count:  1\n",
      "Sequence Length =  28  >> Sequence Count:  3\n",
      "Sequence Length =  29  >> Sequence Count:  2\n",
      "Sequence Length =  30  >> Sequence Count:  1\n",
      "Sequence Length =  35  >> Sequence Count:  1\n",
      "Sequence Length =  36  >> Sequence Count:  1\n",
      "Sequence Length =  38  >> Sequence Count:  1\n",
      "Sequence Length =  40  >> Sequence Count:  1\n",
      "Sequence Length =  52  >> Sequence Count:  1\n",
      "Sequence Length =  58  >> Sequence Count:  1\n",
      "Sequence Length =  67  >> Sequence Count:  1\n",
      "Sequence Length =  69  >> Sequence Count:  1\n",
      "Sequence Length =  77  >> Sequence Count:  1\n",
      "Sequence Length =  92  >> Sequence Count:  1\n",
      "Sequence Length =  99  >> Sequence Count:  1\n",
      "Sequence Length =  107  >> Sequence Count:  1\n",
      "Sequence Length =  109  >> Sequence Count:  1\n"
     ]
    }
   ],
   "source": [
    "seq_len_VS_count = []\n",
    "for i in range(sequence_df['sequence_length'][0] + 1):\n",
    "    sq_len = (sequence_df[sequence_df['sequence_length'] == i])\n",
    "    seq_sum = sq_len['sequence_length'].count()\n",
    "    if seq_sum != 0:\n",
    "        print('Sequence Length = ', i, ' >> Sequence Count: ', seq_sum)\n",
    "        seq_len_VS_count.append([i, seq_sum])"
   ]
  },
  {
   "cell_type": "code",
   "execution_count": 17,
   "metadata": {
    "ExecuteTime": {
     "end_time": "2020-03-26T10:21:59.583681Z",
     "start_time": "2020-03-26T10:21:59.573736Z"
    },
    "pycharm": {
     "is_executing": false,
     "name": "#%%\n"
    }
   },
   "outputs": [
    {
     "data": {
      "text/html": [
       "<div>\n",
       "<style scoped>\n",
       "    .dataframe tbody tr th:only-of-type {\n",
       "        vertical-align: middle;\n",
       "    }\n",
       "\n",
       "    .dataframe tbody tr th {\n",
       "        vertical-align: top;\n",
       "    }\n",
       "\n",
       "    .dataframe thead th {\n",
       "        text-align: right;\n",
       "    }\n",
       "</style>\n",
       "<table border=\"1\" class=\"dataframe\">\n",
       "  <thead>\n",
       "    <tr style=\"text-align: right;\">\n",
       "      <th></th>\n",
       "      <th>total_item_number</th>\n",
       "      <th>total_sequence_count</th>\n",
       "    </tr>\n",
       "  </thead>\n",
       "  <tbody>\n",
       "    <tr>\n",
       "      <th>0</th>\n",
       "      <td>1</td>\n",
       "      <td>15770</td>\n",
       "    </tr>\n",
       "    <tr>\n",
       "      <th>1</th>\n",
       "      <td>2</td>\n",
       "      <td>2397</td>\n",
       "    </tr>\n",
       "    <tr>\n",
       "      <th>2</th>\n",
       "      <td>3</td>\n",
       "      <td>900</td>\n",
       "    </tr>\n",
       "    <tr>\n",
       "      <th>3</th>\n",
       "      <td>4</td>\n",
       "      <td>442</td>\n",
       "    </tr>\n",
       "    <tr>\n",
       "      <th>4</th>\n",
       "      <td>5</td>\n",
       "      <td>252</td>\n",
       "    </tr>\n",
       "  </tbody>\n",
       "</table>\n",
       "</div>"
      ],
      "text/plain": [
       "   total_item_number  total_sequence_count\n",
       "0                  1                 15770\n",
       "1                  2                  2397\n",
       "2                  3                   900\n",
       "3                  4                   442\n",
       "4                  5                   252"
      ]
     },
     "execution_count": 17,
     "metadata": {},
     "output_type": "execute_result"
    }
   ],
   "source": [
    "df = pd.DataFrame(data=seq_len_VS_count, columns=['total_item_number', 'total_sequence_count'])\n",
    "df.head()"
   ]
  },
  {
   "cell_type": "code",
   "execution_count": 18,
   "metadata": {
    "ExecuteTime": {
     "end_time": "2020-03-26T10:22:08.615549Z",
     "start_time": "2020-03-26T10:22:08.385132Z"
    },
    "pycharm": {
     "is_executing": false,
     "name": "#%%\n"
    }
   },
   "outputs": [
    {
     "data": {
      "text/plain": [
       "<matplotlib.axes._subplots.AxesSubplot at 0x194993ad308>"
      ]
     },
     "execution_count": 18,
     "metadata": {},
     "output_type": "execute_result"
    },
    {
     "data": {
      "image/png": "[encoded data removed]",
      "text/plain": [
       "<Figure size 720x432 with 1 Axes>"
      ]
     },
     "metadata": {
      "needs_background": "light"
     },
     "output_type": "display_data"
    }
   ],
   "source": [
    "plt.figure(figsize=(10, 6))\n",
    "sns.scatterplot(x='total_sequence_count', y='total_item_number', data=df, hue='total_item_number', size='total_item_number')"
   ]
  },
  {
   "cell_type": "code",
   "execution_count": 19,
   "metadata": {
    "ExecuteTime": {
     "end_time": "2020-03-26T10:22:31.495336Z",
     "start_time": "2020-03-26T10:22:30.740352Z"
    },
    "pycharm": {
     "is_executing": false,
     "name": "#%%\n"
    }
   },
   "outputs": [
    {
     "data": {
      "text/plain": [
       "<seaborn.axisgrid.PairGrid at 0x194991bb088>"
      ]
     },
     "execution_count": 19,
     "metadata": {},
     "output_type": "execute_result"
    },
    {
     "data": {
      "image/png": "[encoded data removed]",
      "text/plain": [
       "<Figure size 360x360 with 6 Axes>"
      ]
     },
     "metadata": {
      "needs_background": "light"
     },
     "output_type": "display_data"
    }
   ],
   "source": [
    "sns.pairplot(df)"
   ]
  },
  {
   "cell_type": "code",
   "execution_count": 20,
   "metadata": {
    "ExecuteTime": {
     "end_time": "2020-03-26T10:23:50.655973Z",
     "start_time": "2020-03-26T10:23:49.641601Z"
    }
   },
   "outputs": [],
   "source": [
    "seq_with_data = db_helper.fetch_user_item_seq_info_with_date()"
   ]
  },
  {
   "cell_type": "code",
   "execution_count": 21,
   "metadata": {
    "ExecuteTime": {
     "end_time": "2020-03-26T10:23:53.500460Z",
     "start_time": "2020-03-26T10:23:53.409549Z"
    }
   },
   "outputs": [],
   "source": [
    "seq_df = pd.DataFrame(data=seq_with_data, columns=['user_id', 'session_id', 'object_id', 'startTime', 'endTime'])"
   ]
  },
  {
   "cell_type": "code",
   "execution_count": 22,
   "metadata": {
    "ExecuteTime": {
     "end_time": "2020-03-26T10:23:54.993317Z",
     "start_time": "2020-03-26T10:23:54.980318Z"
    }
   },
   "outputs": [
    {
     "data": {
      "text/html": [
       "<div>\n",
       "<style scoped>\n",
       "    .dataframe tbody tr th:only-of-type {\n",
       "        vertical-align: middle;\n",
       "    }\n",
       "\n",
       "    .dataframe tbody tr th {\n",
       "        vertical-align: top;\n",
       "    }\n",
       "\n",
       "    .dataframe thead th {\n",
       "        text-align: right;\n",
       "    }\n",
       "</style>\n",
       "<table border=\"1\" class=\"dataframe\">\n",
       "  <thead>\n",
       "    <tr style=\"text-align: right;\">\n",
       "      <th></th>\n",
       "      <th>user_id</th>\n",
       "      <th>session_id</th>\n",
       "      <th>object_id</th>\n",
       "      <th>startTime</th>\n",
       "      <th>endTime</th>\n",
       "    </tr>\n",
       "  </thead>\n",
       "  <tbody>\n",
       "    <tr>\n",
       "      <th>0</th>\n",
       "      <td>0</td>\n",
       "      <td>1</td>\n",
       "      <td>0</td>\n",
       "      <td>2020-01-28 16:03:17</td>\n",
       "      <td>2020-02-25 15:56:36</td>\n",
       "    </tr>\n",
       "    <tr>\n",
       "      <th>1</th>\n",
       "      <td>596178</td>\n",
       "      <td>92</td>\n",
       "      <td>0</td>\n",
       "      <td>2020-02-06 09:24:02</td>\n",
       "      <td>2020-02-06 09:24:02</td>\n",
       "    </tr>\n",
       "    <tr>\n",
       "      <th>2</th>\n",
       "      <td>596178</td>\n",
       "      <td>92</td>\n",
       "      <td>0</td>\n",
       "      <td>2020-02-06 09:43:07</td>\n",
       "      <td>2020-02-06 09:58:19</td>\n",
       "    </tr>\n",
       "    <tr>\n",
       "      <th>3</th>\n",
       "      <td>715904</td>\n",
       "      <td>224</td>\n",
       "      <td>5940</td>\n",
       "      <td>2020-02-07 15:21:51</td>\n",
       "      <td>2020-02-07 16:32:41</td>\n",
       "    </tr>\n",
       "    <tr>\n",
       "      <th>4</th>\n",
       "      <td>715904</td>\n",
       "      <td>224</td>\n",
       "      <td>0</td>\n",
       "      <td>2020-02-07 16:30:02</td>\n",
       "      <td>2020-02-07 16:37:44</td>\n",
       "    </tr>\n",
       "  </tbody>\n",
       "</table>\n",
       "</div>"
      ],
      "text/plain": [
       "   user_id  session_id  object_id           startTime             endTime\n",
       "0        0           1          0 2020-01-28 16:03:17 2020-02-25 15:56:36\n",
       "1   596178          92          0 2020-02-06 09:24:02 2020-02-06 09:24:02\n",
       "2   596178          92          0 2020-02-06 09:43:07 2020-02-06 09:58:19\n",
       "3   715904         224       5940 2020-02-07 15:21:51 2020-02-07 16:32:41\n",
       "4   715904         224          0 2020-02-07 16:30:02 2020-02-07 16:37:44"
      ]
     },
     "execution_count": 22,
     "metadata": {},
     "output_type": "execute_result"
    }
   ],
   "source": [
    "seq_df.head()"
   ]
  },
  {
   "cell_type": "code",
   "execution_count": 23,
   "metadata": {
    "ExecuteTime": {
     "end_time": "2020-03-26T10:23:56.594996Z",
     "start_time": "2020-03-26T10:23:56.575051Z"
    }
   },
   "outputs": [
    {
     "data": {
      "text/html": [
       "<div>\n",
       "<style scoped>\n",
       "    .dataframe tbody tr th:only-of-type {\n",
       "        vertical-align: middle;\n",
       "    }\n",
       "\n",
       "    .dataframe tbody tr th {\n",
       "        vertical-align: top;\n",
       "    }\n",
       "\n",
       "    .dataframe thead th {\n",
       "        text-align: right;\n",
       "    }\n",
       "</style>\n",
       "<table border=\"1\" class=\"dataframe\">\n",
       "  <thead>\n",
       "    <tr style=\"text-align: right;\">\n",
       "      <th></th>\n",
       "      <th>user_id</th>\n",
       "      <th>session_id</th>\n",
       "      <th>object_id</th>\n",
       "      <th>startTime</th>\n",
       "      <th>endTime</th>\n",
       "    </tr>\n",
       "  </thead>\n",
       "  <tbody>\n",
       "    <tr>\n",
       "      <th>0</th>\n",
       "      <td>0</td>\n",
       "      <td>1</td>\n",
       "      <td>0</td>\n",
       "      <td>2020-01-28 16:03:17</td>\n",
       "      <td>2020-02-25 15:56:36</td>\n",
       "    </tr>\n",
       "    <tr>\n",
       "      <th>1</th>\n",
       "      <td>596178</td>\n",
       "      <td>92</td>\n",
       "      <td>0</td>\n",
       "      <td>2020-02-06 09:24:02</td>\n",
       "      <td>2020-02-06 09:24:02</td>\n",
       "    </tr>\n",
       "    <tr>\n",
       "      <th>2</th>\n",
       "      <td>596178</td>\n",
       "      <td>92</td>\n",
       "      <td>0</td>\n",
       "      <td>2020-02-06 09:43:07</td>\n",
       "      <td>2020-02-06 09:58:19</td>\n",
       "    </tr>\n",
       "    <tr>\n",
       "      <th>3</th>\n",
       "      <td>715904</td>\n",
       "      <td>224</td>\n",
       "      <td>5940</td>\n",
       "      <td>2020-02-07 15:21:51</td>\n",
       "      <td>2020-02-07 16:32:41</td>\n",
       "    </tr>\n",
       "    <tr>\n",
       "      <th>4</th>\n",
       "      <td>715904</td>\n",
       "      <td>224</td>\n",
       "      <td>0</td>\n",
       "      <td>2020-02-07 16:30:02</td>\n",
       "      <td>2020-02-07 16:37:44</td>\n",
       "    </tr>\n",
       "  </tbody>\n",
       "</table>\n",
       "</div>"
      ],
      "text/plain": [
       "   user_id  session_id  object_id           startTime             endTime\n",
       "0        0           1          0 2020-01-28 16:03:17 2020-02-25 15:56:36\n",
       "1   596178          92          0 2020-02-06 09:24:02 2020-02-06 09:24:02\n",
       "2   596178          92          0 2020-02-06 09:43:07 2020-02-06 09:58:19\n",
       "3   715904         224       5940 2020-02-07 15:21:51 2020-02-07 16:32:41\n",
       "4   715904         224          0 2020-02-07 16:30:02 2020-02-07 16:37:44"
      ]
     },
     "execution_count": 23,
     "metadata": {},
     "output_type": "execute_result"
    }
   ],
   "source": [
    "vanilla_df = seq_df.copy()\n",
    "vanilla_df.head()"
   ]
  },
  {
   "cell_type": "code",
   "execution_count": 24,
   "metadata": {
    "ExecuteTime": {
     "end_time": "2020-03-26T10:24:00.550415Z",
     "start_time": "2020-03-26T10:24:00.525482Z"
    }
   },
   "outputs": [
    {
     "data": {
      "text/html": [
       "<div>\n",
       "<style scoped>\n",
       "    .dataframe tbody tr th:only-of-type {\n",
       "        vertical-align: middle;\n",
       "    }\n",
       "\n",
       "    .dataframe tbody tr th {\n",
       "        vertical-align: top;\n",
       "    }\n",
       "\n",
       "    .dataframe thead th {\n",
       "        text-align: right;\n",
       "    }\n",
       "</style>\n",
       "<table border=\"1\" class=\"dataframe\">\n",
       "  <thead>\n",
       "    <tr style=\"text-align: right;\">\n",
       "      <th></th>\n",
       "      <th>user_id</th>\n",
       "      <th>session_id</th>\n",
       "      <th>object_id</th>\n",
       "      <th>startTime</th>\n",
       "      <th>endTime</th>\n",
       "    </tr>\n",
       "  </thead>\n",
       "  <tbody>\n",
       "    <tr>\n",
       "      <th>3</th>\n",
       "      <td>715904</td>\n",
       "      <td>224</td>\n",
       "      <td>5940</td>\n",
       "      <td>2020-02-07 15:21:51</td>\n",
       "      <td>2020-02-07 16:32:41</td>\n",
       "    </tr>\n",
       "    <tr>\n",
       "      <th>6</th>\n",
       "      <td>715904</td>\n",
       "      <td>225</td>\n",
       "      <td>6807</td>\n",
       "      <td>2020-02-10 11:24:43</td>\n",
       "      <td>2020-02-10 12:54:22</td>\n",
       "    </tr>\n",
       "    <tr>\n",
       "      <th>7</th>\n",
       "      <td>715904</td>\n",
       "      <td>225</td>\n",
       "      <td>6100</td>\n",
       "      <td>2020-02-10 12:03:09</td>\n",
       "      <td>2020-02-10 12:54:13</td>\n",
       "    </tr>\n",
       "    <tr>\n",
       "      <th>9</th>\n",
       "      <td>715904</td>\n",
       "      <td>225</td>\n",
       "      <td>6809</td>\n",
       "      <td>2020-02-10 12:47:35</td>\n",
       "      <td>2020-02-10 12:54:37</td>\n",
       "    </tr>\n",
       "    <tr>\n",
       "      <th>10</th>\n",
       "      <td>715904</td>\n",
       "      <td>225</td>\n",
       "      <td>6808</td>\n",
       "      <td>2020-02-10 12:48:43</td>\n",
       "      <td>2020-02-10 12:54:13</td>\n",
       "    </tr>\n",
       "  </tbody>\n",
       "</table>\n",
       "</div>"
      ],
      "text/plain": [
       "    user_id  session_id  object_id           startTime             endTime\n",
       "3    715904         224       5940 2020-02-07 15:21:51 2020-02-07 16:32:41\n",
       "6    715904         225       6807 2020-02-10 11:24:43 2020-02-10 12:54:22\n",
       "7    715904         225       6100 2020-02-10 12:03:09 2020-02-10 12:54:13\n",
       "9    715904         225       6809 2020-02-10 12:47:35 2020-02-10 12:54:37\n",
       "10   715904         225       6808 2020-02-10 12:48:43 2020-02-10 12:54:13"
      ]
     },
     "execution_count": 24,
     "metadata": {},
     "output_type": "execute_result"
    }
   ],
   "source": [
    "seq_df = vanilla_df.copy()\n",
    "seq_df = seq_df[seq_df['object_id'] > 0].copy()\n",
    "seq_df.head()"
   ]
  },
  {
   "cell_type": "code",
   "execution_count": 25,
   "metadata": {
    "ExecuteTime": {
     "end_time": "2020-03-26T10:24:02.196019Z",
     "start_time": "2020-03-26T10:24:02.192026Z"
    }
   },
   "outputs": [],
   "source": [
    "# Add a new column 'timespent' which will show how long user spent on looking to one item\n",
    "def calculate_time(start, end):\n",
    "    if (end > start):\n",
    "        return end - start\n",
    "    else:\n",
    "        None"
   ]
  },
  {
   "cell_type": "code",
   "execution_count": 26,
   "metadata": {
    "ExecuteTime": {
     "end_time": "2020-03-26T10:24:04.185734Z",
     "start_time": "2020-03-26T10:24:03.806735Z"
    }
   },
   "outputs": [],
   "source": [
    "seq_df['time_spent'] = np.vectorize(calculate_time)(seq_df['startTime'], seq_df['endTime'])"
   ]
  },
  {
   "cell_type": "code",
   "execution_count": 27,
   "metadata": {
    "ExecuteTime": {
     "end_time": "2020-03-26T10:24:05.737555Z",
     "start_time": "2020-03-26T10:24:05.731559Z"
    }
   },
   "outputs": [],
   "source": [
    "seq_df['seconds'] = seq_df['time_spent'].dt.total_seconds()"
   ]
  },
  {
   "cell_type": "code",
   "execution_count": 28,
   "metadata": {
    "ExecuteTime": {
     "end_time": "2020-03-26T10:24:07.445967Z",
     "start_time": "2020-03-26T10:24:07.423031Z"
    }
   },
   "outputs": [
    {
     "data": {
      "text/html": [
       "<div>\n",
       "<style scoped>\n",
       "    .dataframe tbody tr th:only-of-type {\n",
       "        vertical-align: middle;\n",
       "    }\n",
       "\n",
       "    .dataframe tbody tr th {\n",
       "        vertical-align: top;\n",
       "    }\n",
       "\n",
       "    .dataframe thead th {\n",
       "        text-align: right;\n",
       "    }\n",
       "</style>\n",
       "<table border=\"1\" class=\"dataframe\">\n",
       "  <thead>\n",
       "    <tr style=\"text-align: right;\">\n",
       "      <th></th>\n",
       "      <th>user_id</th>\n",
       "      <th>session_id</th>\n",
       "      <th>object_id</th>\n",
       "      <th>startTime</th>\n",
       "      <th>endTime</th>\n",
       "      <th>time_spent</th>\n",
       "      <th>seconds</th>\n",
       "    </tr>\n",
       "  </thead>\n",
       "  <tbody>\n",
       "    <tr>\n",
       "      <th>3</th>\n",
       "      <td>715904</td>\n",
       "      <td>224</td>\n",
       "      <td>5940</td>\n",
       "      <td>2020-02-07 15:21:51</td>\n",
       "      <td>2020-02-07 16:32:41</td>\n",
       "      <td>01:10:50</td>\n",
       "      <td>4250.0</td>\n",
       "    </tr>\n",
       "    <tr>\n",
       "      <th>6</th>\n",
       "      <td>715904</td>\n",
       "      <td>225</td>\n",
       "      <td>6807</td>\n",
       "      <td>2020-02-10 11:24:43</td>\n",
       "      <td>2020-02-10 12:54:22</td>\n",
       "      <td>01:29:39</td>\n",
       "      <td>5379.0</td>\n",
       "    </tr>\n",
       "    <tr>\n",
       "      <th>7</th>\n",
       "      <td>715904</td>\n",
       "      <td>225</td>\n",
       "      <td>6100</td>\n",
       "      <td>2020-02-10 12:03:09</td>\n",
       "      <td>2020-02-10 12:54:13</td>\n",
       "      <td>00:51:04</td>\n",
       "      <td>3064.0</td>\n",
       "    </tr>\n",
       "    <tr>\n",
       "      <th>9</th>\n",
       "      <td>715904</td>\n",
       "      <td>225</td>\n",
       "      <td>6809</td>\n",
       "      <td>2020-02-10 12:47:35</td>\n",
       "      <td>2020-02-10 12:54:37</td>\n",
       "      <td>00:07:02</td>\n",
       "      <td>422.0</td>\n",
       "    </tr>\n",
       "    <tr>\n",
       "      <th>10</th>\n",
       "      <td>715904</td>\n",
       "      <td>225</td>\n",
       "      <td>6808</td>\n",
       "      <td>2020-02-10 12:48:43</td>\n",
       "      <td>2020-02-10 12:54:13</td>\n",
       "      <td>00:05:30</td>\n",
       "      <td>330.0</td>\n",
       "    </tr>\n",
       "    <tr>\n",
       "      <th>11</th>\n",
       "      <td>715904</td>\n",
       "      <td>225</td>\n",
       "      <td>6806</td>\n",
       "      <td>2020-02-10 12:50:29</td>\n",
       "      <td>2020-02-10 12:54:38</td>\n",
       "      <td>00:04:09</td>\n",
       "      <td>249.0</td>\n",
       "    </tr>\n",
       "    <tr>\n",
       "      <th>12</th>\n",
       "      <td>715904</td>\n",
       "      <td>220</td>\n",
       "      <td>5706</td>\n",
       "      <td>2020-01-27 12:32:33</td>\n",
       "      <td>2020-01-27 15:48:59</td>\n",
       "      <td>03:16:26</td>\n",
       "      <td>11786.0</td>\n",
       "    </tr>\n",
       "    <tr>\n",
       "      <th>13</th>\n",
       "      <td>715904</td>\n",
       "      <td>220</td>\n",
       "      <td>5706</td>\n",
       "      <td>2020-01-27 12:32:40</td>\n",
       "      <td>2020-01-27 12:37:41</td>\n",
       "      <td>00:05:01</td>\n",
       "      <td>301.0</td>\n",
       "    </tr>\n",
       "    <tr>\n",
       "      <th>17</th>\n",
       "      <td>715904</td>\n",
       "      <td>220</td>\n",
       "      <td>2067</td>\n",
       "      <td>2020-01-27 13:18:01</td>\n",
       "      <td>2020-01-27 13:19:01</td>\n",
       "      <td>00:01:00</td>\n",
       "      <td>60.0</td>\n",
       "    </tr>\n",
       "    <tr>\n",
       "      <th>19</th>\n",
       "      <td>715904</td>\n",
       "      <td>220</td>\n",
       "      <td>725</td>\n",
       "      <td>2020-01-27 13:19:49</td>\n",
       "      <td>2020-01-27 14:20:25</td>\n",
       "      <td>01:00:36</td>\n",
       "      <td>3636.0</td>\n",
       "    </tr>\n",
       "    <tr>\n",
       "      <th>20</th>\n",
       "      <td>715904</td>\n",
       "      <td>220</td>\n",
       "      <td>725</td>\n",
       "      <td>2020-01-27 14:26:28</td>\n",
       "      <td>2020-01-27 14:36:29</td>\n",
       "      <td>00:10:01</td>\n",
       "      <td>601.0</td>\n",
       "    </tr>\n",
       "    <tr>\n",
       "      <th>22</th>\n",
       "      <td>715904</td>\n",
       "      <td>220</td>\n",
       "      <td>2313</td>\n",
       "      <td>2020-01-27 14:39:15</td>\n",
       "      <td>2020-01-27 15:57:49</td>\n",
       "      <td>01:18:34</td>\n",
       "      <td>4714.0</td>\n",
       "    </tr>\n",
       "    <tr>\n",
       "      <th>23</th>\n",
       "      <td>715904</td>\n",
       "      <td>220</td>\n",
       "      <td>2313</td>\n",
       "      <td>2020-01-27 15:35:41</td>\n",
       "      <td>2020-01-27 15:35:41</td>\n",
       "      <td>NaT</td>\n",
       "      <td>NaN</td>\n",
       "    </tr>\n",
       "    <tr>\n",
       "      <th>24</th>\n",
       "      <td>715904</td>\n",
       "      <td>220</td>\n",
       "      <td>2313</td>\n",
       "      <td>2020-01-27 15:35:45</td>\n",
       "      <td>2020-01-27 15:35:45</td>\n",
       "      <td>NaT</td>\n",
       "      <td>NaN</td>\n",
       "    </tr>\n",
       "    <tr>\n",
       "      <th>25</th>\n",
       "      <td>715904</td>\n",
       "      <td>220</td>\n",
       "      <td>2313</td>\n",
       "      <td>2020-01-27 15:35:49</td>\n",
       "      <td>2020-01-27 15:35:49</td>\n",
       "      <td>NaT</td>\n",
       "      <td>NaN</td>\n",
       "    </tr>\n",
       "  </tbody>\n",
       "</table>\n",
       "</div>"
      ],
      "text/plain": [
       "    user_id  session_id  object_id           startTime             endTime  \\\n",
       "3    715904         224       5940 2020-02-07 15:21:51 2020-02-07 16:32:41   \n",
       "6    715904         225       6807 2020-02-10 11:24:43 2020-02-10 12:54:22   \n",
       "7    715904         225       6100 2020-02-10 12:03:09 2020-02-10 12:54:13   \n",
       "9    715904         225       6809 2020-02-10 12:47:35 2020-02-10 12:54:37   \n",
       "10   715904         225       6808 2020-02-10 12:48:43 2020-02-10 12:54:13   \n",
       "11   715904         225       6806 2020-02-10 12:50:29 2020-02-10 12:54:38   \n",
       "12   715904         220       5706 2020-01-27 12:32:33 2020-01-27 15:48:59   \n",
       "13   715904         220       5706 2020-01-27 12:32:40 2020-01-27 12:37:41   \n",
       "17   715904         220       2067 2020-01-27 13:18:01 2020-01-27 13:19:01   \n",
       "19   715904         220        725 2020-01-27 13:19:49 2020-01-27 14:20:25   \n",
       "20   715904         220        725 2020-01-27 14:26:28 2020-01-27 14:36:29   \n",
       "22   715904         220       2313 2020-01-27 14:39:15 2020-01-27 15:57:49   \n",
       "23   715904         220       2313 2020-01-27 15:35:41 2020-01-27 15:35:41   \n",
       "24   715904         220       2313 2020-01-27 15:35:45 2020-01-27 15:35:45   \n",
       "25   715904         220       2313 2020-01-27 15:35:49 2020-01-27 15:35:49   \n",
       "\n",
       "   time_spent  seconds  \n",
       "3    01:10:50   4250.0  \n",
       "6    01:29:39   5379.0  \n",
       "7    00:51:04   3064.0  \n",
       "9    00:07:02    422.0  \n",
       "10   00:05:30    330.0  \n",
       "11   00:04:09    249.0  \n",
       "12   03:16:26  11786.0  \n",
       "13   00:05:01    301.0  \n",
       "17   00:01:00     60.0  \n",
       "19   01:00:36   3636.0  \n",
       "20   00:10:01    601.0  \n",
       "22   01:18:34   4714.0  \n",
       "23        NaT      NaN  \n",
       "24        NaT      NaN  \n",
       "25        NaT      NaN  "
      ]
     },
     "execution_count": 28,
     "metadata": {},
     "output_type": "execute_result"
    }
   ],
   "source": [
    "seq_df.head(15)"
   ]
  },
  {
   "cell_type": "code",
   "execution_count": 29,
   "metadata": {
    "ExecuteTime": {
     "end_time": "2020-03-26T10:24:08.952981Z",
     "start_time": "2020-03-26T10:24:08.940002Z"
    }
   },
   "outputs": [
    {
     "data": {
      "text/plain": [
       "count     18484\n",
       "mean       6053\n",
       "std      102072\n",
       "min           1\n",
       "25%          30\n",
       "50%          90\n",
       "75%         360\n",
       "max     4576651\n",
       "Name: seconds, dtype: float64"
      ]
     },
     "execution_count": 29,
     "metadata": {},
     "output_type": "execute_result"
    }
   ],
   "source": [
    "pd.options.display.float_format = '{:.0f}'.format\n",
    "seq_df['seconds'].describe()"
   ]
  },
  {
   "cell_type": "code",
   "execution_count": 30,
   "metadata": {
    "ExecuteTime": {
     "end_time": "2020-03-26T10:24:10.502789Z",
     "start_time": "2020-03-26T10:24:10.491818Z"
    }
   },
   "outputs": [
    {
     "name": "stdout",
     "output_type": "stream",
     "text": [
      "Min time spent on item: >>  1.0  seconds.\n",
      "Mean time spent on item: >>  6052.968621510496  seconds. >> 1.6 Hours\n",
      "Max time spent on item: >>  4576651.0  seconds. >> 1271 Hours. Not realistic\n"
     ]
    }
   ],
   "source": [
    "print('Min time spent on item: >> ', seq_df['seconds'].min(), ' seconds.')\n",
    "print('Mean time spent on item: >> ', seq_df['seconds'].mean(), ' seconds. >> 1.6 Hours')\n",
    "print('Max time spent on item: >> ', seq_df['seconds'].max(), ' seconds. >> 1271 Hours. Not realistic')"
   ]
  },
  {
   "cell_type": "code",
   "execution_count": 31,
   "metadata": {
    "ExecuteTime": {
     "end_time": "2020-03-26T10:24:12.132307Z",
     "start_time": "2020-03-26T10:24:12.108363Z"
    }
   },
   "outputs": [
    {
     "data": {
      "text/html": [
       "<div>\n",
       "<style scoped>\n",
       "    .dataframe tbody tr th:only-of-type {\n",
       "        vertical-align: middle;\n",
       "    }\n",
       "\n",
       "    .dataframe tbody tr th {\n",
       "        vertical-align: top;\n",
       "    }\n",
       "\n",
       "    .dataframe thead th {\n",
       "        text-align: right;\n",
       "    }\n",
       "</style>\n",
       "<table border=\"1\" class=\"dataframe\">\n",
       "  <thead>\n",
       "    <tr style=\"text-align: right;\">\n",
       "      <th></th>\n",
       "      <th>user_id</th>\n",
       "      <th>session_id</th>\n",
       "      <th>object_id</th>\n",
       "      <th>startTime</th>\n",
       "      <th>endTime</th>\n",
       "      <th>time_spent</th>\n",
       "      <th>seconds</th>\n",
       "    </tr>\n",
       "  </thead>\n",
       "  <tbody>\n",
       "    <tr>\n",
       "      <th>4985</th>\n",
       "      <td>2724468</td>\n",
       "      <td>9</td>\n",
       "      <td>3126</td>\n",
       "      <td>2020-01-16 19:18:24</td>\n",
       "      <td>2020-03-09 18:35:55</td>\n",
       "      <td>52 days 23:17:31</td>\n",
       "      <td>4576651</td>\n",
       "    </tr>\n",
       "    <tr>\n",
       "      <th>444</th>\n",
       "      <td>883157</td>\n",
       "      <td>59</td>\n",
       "      <td>3126</td>\n",
       "      <td>2020-01-17 07:29:45</td>\n",
       "      <td>2020-02-29 08:42:56</td>\n",
       "      <td>43 days 01:13:11</td>\n",
       "      <td>3719591</td>\n",
       "    </tr>\n",
       "    <tr>\n",
       "      <th>8289</th>\n",
       "      <td>3000415</td>\n",
       "      <td>12</td>\n",
       "      <td>5932</td>\n",
       "      <td>2020-01-23 14:03:18</td>\n",
       "      <td>2020-03-06 11:55:12</td>\n",
       "      <td>42 days 21:51:54</td>\n",
       "      <td>3707514</td>\n",
       "    </tr>\n",
       "    <tr>\n",
       "      <th>8290</th>\n",
       "      <td>3000415</td>\n",
       "      <td>12</td>\n",
       "      <td>5932</td>\n",
       "      <td>2020-01-23 14:04:11</td>\n",
       "      <td>2020-03-06 11:54:54</td>\n",
       "      <td>42 days 21:50:43</td>\n",
       "      <td>3707443</td>\n",
       "    </tr>\n",
       "    <tr>\n",
       "      <th>6144</th>\n",
       "      <td>2833384</td>\n",
       "      <td>5</td>\n",
       "      <td>2191</td>\n",
       "      <td>2020-01-23 16:03:25</td>\n",
       "      <td>2020-03-05 11:00:05</td>\n",
       "      <td>41 days 18:56:40</td>\n",
       "      <td>3610600</td>\n",
       "    </tr>\n",
       "    <tr>\n",
       "      <th>...</th>\n",
       "      <td>...</td>\n",
       "      <td>...</td>\n",
       "      <td>...</td>\n",
       "      <td>...</td>\n",
       "      <td>...</td>\n",
       "      <td>...</td>\n",
       "      <td>...</td>\n",
       "    </tr>\n",
       "    <tr>\n",
       "      <th>70984</th>\n",
       "      <td>3417240</td>\n",
       "      <td>1</td>\n",
       "      <td>6259</td>\n",
       "      <td>2020-03-12 12:52:09</td>\n",
       "      <td>2020-03-12 12:52:09</td>\n",
       "      <td>NaT</td>\n",
       "      <td>nan</td>\n",
       "    </tr>\n",
       "    <tr>\n",
       "      <th>70993</th>\n",
       "      <td>3417244</td>\n",
       "      <td>1</td>\n",
       "      <td>4108</td>\n",
       "      <td>2020-03-12 13:03:02</td>\n",
       "      <td>2020-03-12 13:03:02</td>\n",
       "      <td>NaT</td>\n",
       "      <td>nan</td>\n",
       "    </tr>\n",
       "    <tr>\n",
       "      <th>70999</th>\n",
       "      <td>3417251</td>\n",
       "      <td>1</td>\n",
       "      <td>2331</td>\n",
       "      <td>2020-03-12 13:10:18</td>\n",
       "      <td>2020-03-12 13:10:18</td>\n",
       "      <td>NaT</td>\n",
       "      <td>nan</td>\n",
       "    </tr>\n",
       "    <tr>\n",
       "      <th>71004</th>\n",
       "      <td>3417257</td>\n",
       "      <td>1</td>\n",
       "      <td>156</td>\n",
       "      <td>2020-03-12 13:28:22</td>\n",
       "      <td>2020-03-12 13:28:22</td>\n",
       "      <td>NaT</td>\n",
       "      <td>nan</td>\n",
       "    </tr>\n",
       "    <tr>\n",
       "      <th>71008</th>\n",
       "      <td>3417264</td>\n",
       "      <td>1</td>\n",
       "      <td>6990</td>\n",
       "      <td>2020-03-12 14:00:10</td>\n",
       "      <td>2020-03-12 14:00:10</td>\n",
       "      <td>NaT</td>\n",
       "      <td>nan</td>\n",
       "    </tr>\n",
       "  </tbody>\n",
       "</table>\n",
       "<p>32080 rows × 7 columns</p>\n",
       "</div>"
      ],
      "text/plain": [
       "       user_id  session_id  object_id           startTime             endTime  \\\n",
       "4985   2724468           9       3126 2020-01-16 19:18:24 2020-03-09 18:35:55   \n",
       "444     883157          59       3126 2020-01-17 07:29:45 2020-02-29 08:42:56   \n",
       "8289   3000415          12       5932 2020-01-23 14:03:18 2020-03-06 11:55:12   \n",
       "8290   3000415          12       5932 2020-01-23 14:04:11 2020-03-06 11:54:54   \n",
       "6144   2833384           5       2191 2020-01-23 16:03:25 2020-03-05 11:00:05   \n",
       "...        ...         ...        ...                 ...                 ...   \n",
       "70984  3417240           1       6259 2020-03-12 12:52:09 2020-03-12 12:52:09   \n",
       "70993  3417244           1       4108 2020-03-12 13:03:02 2020-03-12 13:03:02   \n",
       "70999  3417251           1       2331 2020-03-12 13:10:18 2020-03-12 13:10:18   \n",
       "71004  3417257           1        156 2020-03-12 13:28:22 2020-03-12 13:28:22   \n",
       "71008  3417264           1       6990 2020-03-12 14:00:10 2020-03-12 14:00:10   \n",
       "\n",
       "            time_spent  seconds  \n",
       "4985  52 days 23:17:31  4576651  \n",
       "444   43 days 01:13:11  3719591  \n",
       "8289  42 days 21:51:54  3707514  \n",
       "8290  42 days 21:50:43  3707443  \n",
       "6144  41 days 18:56:40  3610600  \n",
       "...                ...      ...  \n",
       "70984              NaT      nan  \n",
       "70993              NaT      nan  \n",
       "70999              NaT      nan  \n",
       "71004              NaT      nan  \n",
       "71008              NaT      nan  \n",
       "\n",
       "[32080 rows x 7 columns]"
      ]
     },
     "execution_count": 31,
     "metadata": {},
     "output_type": "execute_result"
    }
   ],
   "source": [
    "seq_df2 = seq_df.sort_values(by='time_spent', ascending=False).copy()\n",
    "seq_df2"
   ]
  },
  {
   "cell_type": "code",
   "execution_count": 32,
   "metadata": {
    "ExecuteTime": {
     "end_time": "2020-03-26T10:24:13.752027Z",
     "start_time": "2020-03-26T10:24:13.739998Z"
    }
   },
   "outputs": [],
   "source": [
    "import datetime\n",
    "\n",
    "t_up = pd.Timedelta(datetime.timedelta(hours=1, seconds=1))\n",
    "t_low = pd.Timedelta(datetime.timedelta(seconds=3))\n",
    "\n",
    "cut_df = seq_df2[seq_df2['time_spent'] < t_up].copy()\n",
    "cut_df = cut_df[cut_df['time_spent'] > t_low].copy()"
   ]
  },
  {
   "cell_type": "code",
   "execution_count": 33,
   "metadata": {
    "ExecuteTime": {
     "end_time": "2020-03-26T10:24:15.353714Z",
     "start_time": "2020-03-26T10:24:15.341719Z"
    }
   },
   "outputs": [
    {
     "data": {
      "text/plain": [
       "count   17503\n",
       "mean      271\n",
       "std       480\n",
       "min         4\n",
       "25%        30\n",
       "50%        90\n",
       "75%       278\n",
       "max      3600\n",
       "Name: seconds, dtype: float64"
      ]
     },
     "execution_count": 33,
     "metadata": {},
     "output_type": "execute_result"
    }
   ],
   "source": [
    "cut_df['seconds'].describe()"
   ]
  },
  {
   "cell_type": "code",
   "execution_count": 34,
   "metadata": {
    "ExecuteTime": {
     "end_time": "2020-03-26T10:24:17.017234Z",
     "start_time": "2020-03-26T10:24:17.007264Z"
    }
   },
   "outputs": [
    {
     "name": "stdout",
     "output_type": "stream",
     "text": [
      "Min time spent on item: >>  4.0  seconds.\n",
      "Mean time spent on item: >>  271.26498314574644  seconds.\n",
      "Max time spent on item: >>  3600.0  seconds.\n"
     ]
    }
   ],
   "source": [
    "print('Min time spent on item: >> ', cut_df['seconds'].min(), ' seconds.')\n",
    "print('Mean time spent on item: >> ', cut_df['seconds'].mean(), ' seconds.')\n",
    "print('Max time spent on item: >> ', cut_df['seconds'].max(), ' seconds.')"
   ]
  },
  {
   "cell_type": "code",
   "execution_count": 35,
   "metadata": {
    "ExecuteTime": {
     "end_time": "2020-03-26T10:24:18.670813Z",
     "start_time": "2020-03-26T10:24:18.656876Z"
    }
   },
   "outputs": [
    {
     "name": "stdout",
     "output_type": "stream",
     "text": [
      "Min time spent on item: >>  1.0  seconds.\n",
      "Mean time spent on item: >>  6052.968621510496  seconds. >> 1.6 Hours\n",
      "Max time spent on item: >>  4576651.0  seconds. >> 1271 Hours.\n",
      ">>>>>>>>>>>>>>>>>>>>>>>>>>>>>>>>>>>><<<<<<<<<<<<<<<<<<<<<<<<<<<<<<<<<<<<\n",
      "Min time spent on item: >>  4.0  seconds.\n",
      "Mean time spent on item: >>  271.26498314574644  seconds.\n",
      "Max time spent on item: >>  3600.0  seconds.\n"
     ]
    }
   ],
   "source": [
    "# [Q4]\n",
    "print('Min time spent on item: >> ', seq_df['seconds'].min(), ' seconds.')\n",
    "print('Mean time spent on item: >> ', seq_df['seconds'].mean(), ' seconds. >> 1.6 Hours')\n",
    "print('Max time spent on item: >> ', seq_df['seconds'].max(), ' seconds. >> 1271 Hours.')\n",
    "print('>>>>>>>>>>>>>>>>>>>>>>>>>>>>>>>>>>>><<<<<<<<<<<<<<<<<<<<<<<<<<<<<<<<<<<<')\n",
    "print('Min time spent on item: >> ', cut_df['seconds'].min(), ' seconds.')\n",
    "print('Mean time spent on item: >> ', cut_df['seconds'].mean(), ' seconds.')\n",
    "print('Max time spent on item: >> ', cut_df['seconds'].max(), ' seconds.')"
   ]
  },
  {
   "cell_type": "code",
   "execution_count": 36,
   "metadata": {
    "ExecuteTime": {
     "end_time": "2020-03-26T10:24:20.443065Z",
     "start_time": "2020-03-26T10:24:20.229636Z"
    }
   },
   "outputs": [
    {
     "data": {
      "text/plain": [
       "<matplotlib.axes._subplots.AxesSubplot at 0x19499441588>"
      ]
     },
     "execution_count": 36,
     "metadata": {},
     "output_type": "execute_result"
    },
    {
     "data": {
      "image/png": "[encoded data removed]",
      "text/plain": [
       "<Figure size 720x432 with 1 Axes>"
      ]
     },
     "metadata": {
      "needs_background": "light"
     },
     "output_type": "display_data"
    }
   ],
   "source": [
    "plt.figure(figsize=(10, 6))\n",
    "sns.distplot(cut_df['seconds'], kde=False)\n",
    "# norm_hist : bool, optional >> If True, the histogram height shows a density rather than a count."
   ]
  },
  {
   "cell_type": "code",
   "execution_count": 37,
   "metadata": {
    "ExecuteTime": {
     "end_time": "2020-03-26T10:24:22.371906Z",
     "start_time": "2020-03-26T10:24:22.052758Z"
    }
   },
   "outputs": [
    {
     "data": {
      "text/plain": [
       "<matplotlib.axes._subplots.AxesSubplot at 0x1949c6e8f48>"
      ]
     },
     "execution_count": 37,
     "metadata": {},
     "output_type": "execute_result"
    },
    {
     "data": {
      "image/png": "[encoded data removed]",
      "text/plain": [
       "<Figure size 720x432 with 1 Axes>"
      ]
     },
     "metadata": {
      "needs_background": "light"
     },
     "output_type": "display_data"
    }
   ],
   "source": [
    "t_up = pd.Timedelta(datetime.timedelta(minutes=10))\n",
    "t_low = pd.Timedelta(datetime.timedelta(seconds=3))\n",
    "\n",
    "cut_df = seq_df2[seq_df2['time_spent'] < t_up].copy()\n",
    "cut_df = cut_df[cut_df['time_spent'] > t_low].copy()\n",
    "\n",
    "plt.figure(figsize=(10, 6))\n",
    "sns.distplot(cut_df['seconds'], kde=False)"
   ]
  },
  {
   "cell_type": "code",
   "execution_count": 38,
   "metadata": {
    "ExecuteTime": {
     "end_time": "2020-03-26T10:24:24.278834Z",
     "start_time": "2020-03-26T10:24:24.096291Z"
    },
    "pycharm": {
     "name": "#%%\n"
    }
   },
   "outputs": [
    {
     "data": {
      "text/plain": [
       "<matplotlib.axes._subplots.AxesSubplot at 0x1949c704188>"
      ]
     },
     "execution_count": 38,
     "metadata": {},
     "output_type": "execute_result"
    },
    {
     "data": {
      "image/png": "[encoded data removed]",
      "text/plain": [
       "<Figure size 720x432 with 1 Axes>"
      ]
     },
     "metadata": {
      "needs_background": "light"
     },
     "output_type": "display_data"
    }
   ],
   "source": [
    "t_up = pd.Timedelta(datetime.timedelta(minutes=5))\n",
    "t_low = pd.Timedelta(datetime.timedelta(seconds=3))\n",
    "\n",
    "cut_df = seq_df2[seq_df2['time_spent'] < t_up].copy()\n",
    "cut_df = cut_df[cut_df['time_spent'] > t_low].copy()\n",
    "\n",
    "plt.figure(figsize=(10, 6))\n",
    "sns.distplot(cut_df['seconds'], kde=False)"
   ]
  }
 ],
 "metadata": {
  "kernelspec": {
   "display_name": "Python 3",
   "language": "python",
   "name": "python3"
  },
  "language_info": {
   "codemirror_mode": {
    "name": "ipython",
    "version": 3
   },
   "file_extension": ".py",
   "mimetype": "text/x-python",
   "name": "python",
   "nbconvert_exporter": "python",
   "pygments_lexer": "ipython3",
   "version": "3.7.7"
  },
  "pycharm": {
   "stem_cell": {
    "cell_type": "raw",
    "source": [],
    "metadata": {
     "collapsed": false
    }
   }
  },
  "toc": {
   "base_numbering": 1,
   "nav_menu": {},
   "number_sections": true,
   "sideBar": true,
   "skip_h1_title": false,
   "title_cell": "Table of Contents",
   "title_sidebar": "Contents",
   "toc_cell": false,
   "toc_position": {},
   "toc_section_display": true,
   "toc_window_display": false
  },
  "varInspector": {
   "cols": {
    "lenName": 16,
    "lenType": 16,
    "lenVar": 40
   },
   "kernels_config": {
    "python": {
     "delete_cmd_postfix": "",
     "delete_cmd_prefix": "del ",
     "library": "var_list.py",
     "varRefreshCmd": "print(var_dic_list())"
    },
    "r": {
     "delete_cmd_postfix": ") ",
     "delete_cmd_prefix": "rm(",
     "library": "var_list.r",
     "varRefreshCmd": "cat(var_dic_list()) "
    }
   },
   "types_to_exclude": [
    "module",
    "function",
    "builtin_function_or_method",
    "instance",
    "_Feature"
   ],
   "window_display": false
  }
 },
 "nbformat": 4,
 "nbformat_minor": 2
}