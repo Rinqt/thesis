{
 "cells": [
  {
   "cell_type": "code",
   "execution_count": 1,
   "metadata": {},
   "outputs": [],
   "source": [
    "import pandas as pd\n",
    "import numpy as np\n",
    "import pickle"
   ]
  },
  {
   "cell_type": "code",
   "execution_count": 2,
   "metadata": {
    "ExecuteTime": {
     "end_time": "2020-03-26T10:17:16.414142Z",
     "start_time": "2020-03-26T10:17:16.409153Z"
    }
   },
   "outputs": [],
   "source": [
    "import helper_classes.PreProcessData as preprocess\n",
    "from helper_classes.DatabaseHelper import fetch_all_items, get_evaluation_score\n",
    "from helper_classes.Metrics import recall, precision, mrr\n",
    "from helper_classes.Evaluation import Evaluator"
   ]
  },
  {
   "cell_type": "markdown",
   "metadata": {},
   "source": [
    "Find items that user has visited. Since each row in the database has also 'session_id' it is easy to distingues which item was visited during which session.\n",
    "\n",
    "At the end we will have a dataframe as follows:\n",
    " \n",
    "|userID|itemSequence|\n",
    "|--|--|\n",
    "|12345| [ [seq_1], [seq_2], [seq_3] ] |"
   ]
  },
  {
   "cell_type": "code",
   "execution_count": 3,
   "metadata": {
    "ExecuteTime": {
     "end_time": "2020-03-26T10:17:19.977456Z",
     "start_time": "2020-03-26T10:17:17.441209Z"
    },
    "scrolled": true
   },
   "outputs": [
    {
     "data": {
      "text/html": [
       "<div>\n",
       "<style scoped>\n",
       "    .dataframe tbody tr th:only-of-type {\n",
       "        vertical-align: middle;\n",
       "    }\n",
       "\n",
       "    .dataframe tbody tr th {\n",
       "        vertical-align: top;\n",
       "    }\n",
       "\n",
       "    .dataframe thead th {\n",
       "        text-align: right;\n",
       "    }\n",
       "</style>\n",
       "<table border=\"1\" class=\"dataframe\">\n",
       "  <thead>\n",
       "    <tr style=\"text-align: right;\">\n",
       "      <th></th>\n",
       "      <th>userID</th>\n",
       "      <th>itemSequence</th>\n",
       "    </tr>\n",
       "  </thead>\n",
       "  <tbody>\n",
       "    <tr>\n",
       "      <th>0</th>\n",
       "      <td>715904</td>\n",
       "      <td>[[1432, 5932, 7070, 2200, 2201, 6198, 7078, 68...</td>\n",
       "    </tr>\n",
       "    <tr>\n",
       "      <th>1</th>\n",
       "      <td>883157</td>\n",
       "      <td>[[3686, 3686, 5931, 6941, 3126, 4125, 3127, 10...</td>\n",
       "    </tr>\n",
       "    <tr>\n",
       "      <th>2</th>\n",
       "      <td>1050097</td>\n",
       "      <td>[[7176, 7095], [5577, 6155]]</td>\n",
       "    </tr>\n",
       "    <tr>\n",
       "      <th>3</th>\n",
       "      <td>1137872</td>\n",
       "      <td>[[7096, 3666, 3666, 7127, 6710, 5932, 5932, 57...</td>\n",
       "    </tr>\n",
       "    <tr>\n",
       "      <th>4</th>\n",
       "      <td>1179818</td>\n",
       "      <td>[[2067, 4108], [2067, 7094, 6533, 6155, 7095, ...</td>\n",
       "    </tr>\n",
       "  </tbody>\n",
       "</table>\n",
       "</div>"
      ],
      "text/plain": [
       "    userID                                       itemSequence\n",
       "0   715904  [[1432, 5932, 7070, 2200, 2201, 6198, 7078, 68...\n",
       "1   883157  [[3686, 3686, 5931, 6941, 3126, 4125, 3127, 10...\n",
       "2  1050097                       [[7176, 7095], [5577, 6155]]\n",
       "3  1137872  [[7096, 3666, 3666, 7127, 6710, 5932, 5932, 57...\n",
       "4  1179818  [[2067, 4108], [2067, 7094, 6533, 6155, 7095, ..."
      ]
     },
     "execution_count": 3,
     "metadata": {},
     "output_type": "execute_result"
    }
   ],
   "source": [
    "sequence_test = preprocess.concat_user_sequences(sequence_low_limit=2)\n",
    "sequence_test.head()"
   ]
  },
  {
   "cell_type": "markdown",
   "metadata": {},
   "source": [
    "We need to export this dataframe into a list so it can be used during item2vec training."
   ]
  },
  {
   "cell_type": "code",
   "execution_count": 4,
   "metadata": {
    "ExecuteTime": {
     "end_time": "2020-03-26T10:17:20.066196Z",
     "start_time": "2020-03-26T10:17:20.060202Z"
    }
   },
   "outputs": [
    {
     "name": "stdout",
     "output_type": "stream",
     "text": [
      "[[715904, [['1432', '5932', '7070', '2200', '2201', '6198', '7078', '6866', '6846', '6857', '7043', '7042', '6858', '6862', '6865', '6848', '6859', '6827'], ['5946', '5582', '5924', '7117', '5612', '5583', '3819', '3824', '5454', '3911', '4258', '6886', '1283', '5325', '6969', '7130', '725', '6767', '5932', '5932', '6256', '7070', '6828'], ['5706', '5706', '2067', '725', '725', '2313', '2313', '2313', '2313', '2313', '2313', '2313', '2313', '2313', '2313', '2313', '2313', '2313', '2313', '2313', '2313', '2313', '2313', '2313', '2313', '2313', '2313', '2313', '2313', '2313', '2313', '2313', '2313', '2313', '2313', '2313', '2313', '2313', '2313', '2313', '2313', '2313', '2313', '2313', '2313', '2313', '2313', '2313', '2313', '2313', '2313', '2313', '2313', '2313', '2313', '2313', '2313', '2313', '2313', '2313', '2313', '2313', '2313', '2313', '5683', '5684', '5705'], ['5710', '4710', '5709', '5708', '5714', '6908', '5715', '6971'], ['7137', '7136', '5612', '5583', '5613', '1507', '5577'], ['6807', '6100', '6809', '6808', '6806'], ['6971', '5714', '3280'], ['6627', '6632', '7134', '5710', '4710'], ['7026', '6247', '6247', '6247', '6247', '5692', '5646', '2618', '2618', '2618', '2618', '2618', '2618', '2618', '2618', '2618', '2618', '2618', '2618', '2618', '2618', '2618', '2618', '2618', '2618', '2618', '2618', '2618', '2618', '2618', '2618', '2067', '2331', '6526', '7077', '7169'], ['5729', '592', '592', '592', '295', '295', '4645', '4645', '592', '6643', '5727', '5726', '5725', '6198', '5728'], ['7172', '7173', '7092', '7158', '7166', '6489', '7040', '7167', '6896', '6896', '6416', '6400', '5629', '5636', '5633', '5632', '1566', '1566', '6416', '6400', '1566', '1566', '1566', '1566', '1566', '1566', '1566', '1566', '1566', '1566', '1566', '1566', '1566', '1566', '1566', '1566', '1566', '1566', '1566', '1566', '1566', '1566', '1566', '1566', '1566', '1566', '1566', '1566', '1566', '1566', '1566', '1566', '1566', '1566', '1566', '1566', '1566', '1566', '1566', '1566', '1566', '1566', '1566', '1566', '1566', '1566', '1566', '1566', '1566', '1566', '1566', '1566', '1566', '1566', '1566', '1566', '1566'], ['6942', '6504', '6470', '5695', '5682'], ['5682', '5682', '5715', '408', '6998', '6995', '6942', '6504', '6470', '5695', '7145'], ['7106', '6817', '5681', '5681', '592'], ['5680', '7182', '5294', '6816', '6816', '3326', '6280', '6817', '5681'], ['6998', '7124', '7131', '5682', '408', '6995', '6470', '7184', '5695', '6942', '6504', '4646', '6816', '6816'], ['7191', '3686', '1977', '49', '3190', '3686', '7070', '6940'], ['6806', '6816', '6816', '6805', '6017', '6807', '6809', '6808', '6100', '7194']]]]\n"
     ]
    }
   ],
   "source": [
    "train_data = sequence_test.values.tolist()\n",
    "print(train_data[:1])"
   ]
  },
  {
   "cell_type": "markdown",
   "metadata": {},
   "source": [
    "Load Item2Vec Model"
   ]
  },
  {
   "cell_type": "code",
   "execution_count": 5,
   "metadata": {
    "ExecuteTime": {
     "end_time": "2020-03-26T10:17:20.157940Z",
     "start_time": "2020-03-26T10:17:20.145024Z"
    }
   },
   "outputs": [],
   "source": [
    "model_path = f'D:/Thesis/recsys_thesis/models/item2vec.model'\n",
    "file = open(model_path, 'rb')\n",
    "model = pickle.load(file)"
   ]
  },
  {
   "cell_type": "markdown",
   "metadata": {},
   "source": [
    "For the fast verification, I am fetching the all items from the database. When Item2Vec creates recommendation it is a good practice to verify the recommended item is actullay in our dataset."
   ]
  },
  {
   "cell_type": "code",
   "execution_count": 6,
   "metadata": {
    "ExecuteTime": {
     "end_time": "2020-03-26T10:17:21.498359Z",
     "start_time": "2020-03-26T10:17:20.777316Z"
    }
   },
   "outputs": [
    {
     "name": "stdout",
     "output_type": "stream",
     "text": [
      "[104, 3282, 6874, 1613, 6933]\n"
     ]
    }
   ],
   "source": [
    "items = fetch_all_items()\n",
    "print(items[:5])"
   ]
  },
  {
   "cell_type": "markdown",
   "metadata": {},
   "source": [
    "Evaluation Metrics:\n",
    " 1. **metrics**\n",
    "\t\t - Precision: What proportion of positive identifications was actually correct?\n",
    "\t\t - Recall: What proportion of actual positives was identified correctly?\n",
    "\t\t - Mrr: Measure to evaluate systems that return a ranked list of answers to queries\n",
    " 3. **model_name:** Name of the recommendation model. \n",
    " 4. **given_k:** Number of items user will has in her/his profile\n",
    " 5. **look_ahead:** Ground Truth top_n => Number of items to consider for\n",
    " 6. **prediction step:** How many steps will be taken after the evaluation.\n"
   ]
  },
  {
   "cell_type": "code",
   "execution_count": 7,
   "metadata": {},
   "outputs": [],
   "source": [
    "metrics = {'precision': precision, 'recall': recall, 'mrr': mrr}\n",
    "model_name = 'i2v'\n",
    "given_k = 1\n",
    "look_ahead = 'all'\n",
    "top_n = 10\n",
    "step = 1"
   ]
  },
  {
   "cell_type": "code",
   "execution_count": null,
   "metadata": {
    "ExecuteTime": {
     "end_time": "2020-03-26T09:20:08.905229Z",
     "start_time": "2020-03-26T09:20:08.783552Z"
    }
   },
   "outputs": [],
   "source": [
    "for user_id, user_sequence in train_data:\n",
    "    item2vec_evaluator = Evaluator(recommender_model=model,\n",
    "                                   recommender_name=model_name,\n",
    "                                   metrics=metrics,\n",
    "                                   items=items,\n",
    "                                   test_sequence=user_sequence,\n",
    "                                   given_k=given_k,\n",
    "                                   look_ahead=look_ahead,\n",
    "                                   top_n=top_n,\n",
    "                                   step=step)\n",
    "    \n",
    "    evaluation_result = item2vec_evaluator.sequential_evaluation()\n",
    "    \n",
    "    \n",
    "    metric_results = list(zip(metrics.keys(), evaluation_result))\n",
    "    \n",
    "    user_average_precision = round(metric_results[0][1], 2)\n",
    "    user_average_recall = round(metric_results[1][1], 2)\n",
    "    user_average_mrr = round(metric_results[2][1], 2)\n",
    "    \n",
    "    print(f'User {user_id} has been evaluated.. >> {user_average_precision} >> {user_average_recall} >> {user_average_mrr}')"
   ]
  },
  {
   "cell_type": "markdown",
   "metadata": {},
   "source": [
    "After evaluating the model, retrieve the results from the database."
   ]
  },
  {
   "cell_type": "code",
   "execution_count": 8,
   "metadata": {
    "ExecuteTime": {
     "end_time": "2020-03-26T15:07:45.944320Z",
     "start_time": "2020-03-26T15:07:45.830616Z"
    },
    "pycharm": {
     "name": "#%%\n"
    }
   },
   "outputs": [],
   "source": [
    "user_scores = get_evaluation_score('i2v')"
   ]
  },
  {
   "cell_type": "code",
   "execution_count": 9,
   "metadata": {
    "ExecuteTime": {
     "end_time": "2020-03-26T15:07:46.167427Z",
     "start_time": "2020-03-26T15:07:46.143501Z"
    }
   },
   "outputs": [
    {
     "data": {
      "text/html": [
       "<div>\n",
       "<style scoped>\n",
       "    .dataframe tbody tr th:only-of-type {\n",
       "        vertical-align: middle;\n",
       "    }\n",
       "\n",
       "    .dataframe tbody tr th {\n",
       "        vertical-align: top;\n",
       "    }\n",
       "\n",
       "    .dataframe thead th {\n",
       "        text-align: right;\n",
       "    }\n",
       "</style>\n",
       "<table border=\"1\" class=\"dataframe\">\n",
       "  <thead>\n",
       "    <tr style=\"text-align: right;\">\n",
       "      <th></th>\n",
       "      <th>user_id</th>\n",
       "      <th>avg_precision</th>\n",
       "      <th>avg_recall</th>\n",
       "      <th>avg_mrr</th>\n",
       "    </tr>\n",
       "  </thead>\n",
       "  <tbody>\n",
       "    <tr>\n",
       "      <th>0</th>\n",
       "      <td>3374824</td>\n",
       "      <td>1.0</td>\n",
       "      <td>0.53</td>\n",
       "      <td>1.0</td>\n",
       "    </tr>\n",
       "    <tr>\n",
       "      <th>1</th>\n",
       "      <td>3396036</td>\n",
       "      <td>0.7</td>\n",
       "      <td>0.64</td>\n",
       "      <td>1.0</td>\n",
       "    </tr>\n",
       "    <tr>\n",
       "      <th>2</th>\n",
       "      <td>3378787</td>\n",
       "      <td>0.6</td>\n",
       "      <td>0.67</td>\n",
       "      <td>1.0</td>\n",
       "    </tr>\n",
       "    <tr>\n",
       "      <th>3</th>\n",
       "      <td>3000415</td>\n",
       "      <td>0.5</td>\n",
       "      <td>0.83</td>\n",
       "      <td>1.0</td>\n",
       "    </tr>\n",
       "    <tr>\n",
       "      <th>4</th>\n",
       "      <td>3383094</td>\n",
       "      <td>0.5</td>\n",
       "      <td>0.71</td>\n",
       "      <td>1.0</td>\n",
       "    </tr>\n",
       "  </tbody>\n",
       "</table>\n",
       "</div>"
      ],
      "text/plain": [
       "   user_id  avg_precision  avg_recall  avg_mrr\n",
       "0  3374824            1.0        0.53      1.0\n",
       "1  3396036            0.7        0.64      1.0\n",
       "2  3378787            0.6        0.67      1.0\n",
       "3  3000415            0.5        0.83      1.0\n",
       "4  3383094            0.5        0.71      1.0"
      ]
     },
     "execution_count": 9,
     "metadata": {},
     "output_type": "execute_result"
    }
   ],
   "source": [
    "df_user_scores = pd.DataFrame(user_scores, columns=['user_id', 'avg_precision', 'avg_recall', 'avg_mrr'])\n",
    "df_user_scores['user_id'] = df_user_scores['user_id'].astype(int)\n",
    "df_user_scores['avg_precision'] = df_user_scores['avg_precision'].astype(float)\n",
    "df_user_scores['avg_recall'] = df_user_scores['avg_recall'].astype(float)\n",
    "df_user_scores['avg_mrr'] = df_user_scores['avg_mrr'].astype(float)\n",
    "df_user_scores.head()"
   ]
  },
  {
   "cell_type": "code",
   "execution_count": 10,
   "metadata": {
    "ExecuteTime": {
     "end_time": "2020-03-26T15:07:47.140248Z",
     "start_time": "2020-03-26T15:07:47.133267Z"
    }
   },
   "outputs": [
    {
     "name": "stdout",
     "output_type": "stream",
     "text": [
      "Nummber of the unique user count:  3605\n"
     ]
    }
   ],
   "source": [
    "distinct_user_count = len(df_user_scores)\n",
    "print('Nummber of the unique user count: ', distinct_user_count)"
   ]
  },
  {
   "cell_type": "markdown",
   "metadata": {
    "pycharm": {
     "name": "#%% md\n"
    }
   },
   "source": [
    "Get the number of 'hits'"
   ]
  },
  {
   "cell_type": "code",
   "execution_count": 11,
   "metadata": {
    "ExecuteTime": {
     "end_time": "2020-03-26T15:07:47.626927Z",
     "start_time": "2020-03-26T15:07:47.621942Z"
    },
    "pycharm": {
     "name": "#%%\n"
    }
   },
   "outputs": [
    {
     "name": "stdout",
     "output_type": "stream",
     "text": [
      "1242\n"
     ]
    }
   ],
   "source": [
    "hit_counter = np.count_nonzero(df_user_scores['avg_precision'])\n",
    "not_hit_counter = distinct_user_count - hit_counter\n",
    "print(hit_counter)"
   ]
  },
  {
   "cell_type": "code",
   "execution_count": 12,
   "metadata": {
    "ExecuteTime": {
     "end_time": "2020-03-26T15:07:48.216530Z",
     "start_time": "2020-03-26T15:07:48.212559Z"
    },
    "pycharm": {
     "name": "#%%\n"
    }
   },
   "outputs": [],
   "source": [
    "import seaborn as sns"
   ]
  },
  {
   "cell_type": "code",
   "execution_count": 13,
   "metadata": {
    "ExecuteTime": {
     "end_time": "2020-03-26T15:07:49.620516Z",
     "start_time": "2020-03-26T15:07:49.157420Z"
    },
    "pycharm": {
     "name": "#%%\n"
    }
   },
   "outputs": [
    {
     "data": {
      "text/plain": [
       "<matplotlib.axes._subplots.AxesSubplot at 0x2376d20ae48>"
      ]
     },
     "execution_count": 13,
     "metadata": {},
     "output_type": "execute_result"
    },
    {
     "data": {
      "image/png": "[encoded data removed]",
      "text/plain": [
       "<Figure size 432x288 with 1 Axes>"
      ]
     },
     "metadata": {
      "needs_background": "light"
     },
     "output_type": "display_data"
    }
   ],
   "source": [
    "sns.distplot(df_user_scores['avg_precision'])"
   ]
  },
  {
   "cell_type": "code",
   "execution_count": 14,
   "metadata": {
    "ExecuteTime": {
     "end_time": "2020-03-26T15:07:52.649034Z",
     "start_time": "2020-03-26T15:07:52.388821Z"
    },
    "pycharm": {
     "name": "#%%\n"
    }
   },
   "outputs": [
    {
     "data": {
      "text/plain": [
       "<matplotlib.axes._subplots.AxesSubplot at 0x2376f2e27c8>"
      ]
     },
     "execution_count": 14,
     "metadata": {},
     "output_type": "execute_result"
    },
    {
     "data": {
      "image/png": "[encoded data removed]",
      "text/plain": [
       "<Figure size 432x288 with 1 Axes>"
      ]
     },
     "metadata": {
      "needs_background": "light"
     },
     "output_type": "display_data"
    }
   ],
   "source": [
    "sns.distplot(df_user_scores['avg_recall'])"
   ]
  },
  {
   "cell_type": "code",
   "execution_count": 15,
   "metadata": {
    "ExecuteTime": {
     "end_time": "2020-03-26T15:07:58.049267Z",
     "start_time": "2020-03-26T15:07:57.743760Z"
    },
    "pycharm": {
     "name": "#%%\n"
    }
   },
   "outputs": [
    {
     "data": {
      "text/plain": [
       "<matplotlib.axes._subplots.AxesSubplot at 0x2376f38de48>"
      ]
     },
     "execution_count": 15,
     "metadata": {},
     "output_type": "execute_result"
    },
    {
     "data": {
      "image/png": "[encoded data removed]",
      "text/plain": [
       "<Figure size 432x288 with 1 Axes>"
      ]
     },
     "metadata": {
      "needs_background": "light"
     },
     "output_type": "display_data"
    }
   ],
   "source": [
    "sns.distplot(df_user_scores['avg_mrr'])"
   ]
  },
  {
   "cell_type": "code",
   "execution_count": 16,
   "metadata": {
    "ExecuteTime": {
     "end_time": "2020-03-26T15:08:00.989360Z",
     "start_time": "2020-03-26T15:08:00.984350Z"
    },
    "pycharm": {
     "name": "#%%\n"
    }
   },
   "outputs": [],
   "source": [
    "def test(row):\n",
    "    if (row.avg_precision > 0) and (row.avg_recall > 0) and (row.avg_mrr > 0):\n",
    "        return 1\n",
    "    else:\n",
    "        return 0"
   ]
  },
  {
   "cell_type": "code",
   "execution_count": 17,
   "metadata": {
    "ExecuteTime": {
     "end_time": "2020-03-26T15:08:05.035243Z",
     "start_time": "2020-03-26T15:08:04.870017Z"
    },
    "pycharm": {
     "name": "#%%\n"
    }
   },
   "outputs": [],
   "source": [
    "df_user_scores['hit'] = df_user_scores.apply(test, axis=1)"
   ]
  },
  {
   "cell_type": "code",
   "execution_count": 18,
   "metadata": {
    "ExecuteTime": {
     "end_time": "2020-03-26T15:08:11.672865Z",
     "start_time": "2020-03-26T15:08:11.655917Z"
    },
    "pycharm": {
     "name": "#%%\n"
    }
   },
   "outputs": [
    {
     "data": {
      "text/html": [
       "<div>\n",
       "<style scoped>\n",
       "    .dataframe tbody tr th:only-of-type {\n",
       "        vertical-align: middle;\n",
       "    }\n",
       "\n",
       "    .dataframe tbody tr th {\n",
       "        vertical-align: top;\n",
       "    }\n",
       "\n",
       "    .dataframe thead th {\n",
       "        text-align: right;\n",
       "    }\n",
       "</style>\n",
       "<table border=\"1\" class=\"dataframe\">\n",
       "  <thead>\n",
       "    <tr style=\"text-align: right;\">\n",
       "      <th></th>\n",
       "      <th>user_id</th>\n",
       "      <th>avg_precision</th>\n",
       "      <th>avg_recall</th>\n",
       "      <th>avg_mrr</th>\n",
       "      <th>hit</th>\n",
       "    </tr>\n",
       "  </thead>\n",
       "  <tbody>\n",
       "    <tr>\n",
       "      <th>0</th>\n",
       "      <td>3374824</td>\n",
       "      <td>1.0</td>\n",
       "      <td>0.53</td>\n",
       "      <td>1.0</td>\n",
       "      <td>1</td>\n",
       "    </tr>\n",
       "    <tr>\n",
       "      <th>1</th>\n",
       "      <td>3396036</td>\n",
       "      <td>0.7</td>\n",
       "      <td>0.64</td>\n",
       "      <td>1.0</td>\n",
       "      <td>1</td>\n",
       "    </tr>\n",
       "    <tr>\n",
       "      <th>2</th>\n",
       "      <td>3378787</td>\n",
       "      <td>0.6</td>\n",
       "      <td>0.67</td>\n",
       "      <td>1.0</td>\n",
       "      <td>1</td>\n",
       "    </tr>\n",
       "    <tr>\n",
       "      <th>3</th>\n",
       "      <td>3000415</td>\n",
       "      <td>0.5</td>\n",
       "      <td>0.83</td>\n",
       "      <td>1.0</td>\n",
       "      <td>1</td>\n",
       "    </tr>\n",
       "    <tr>\n",
       "      <th>4</th>\n",
       "      <td>3383094</td>\n",
       "      <td>0.5</td>\n",
       "      <td>0.71</td>\n",
       "      <td>1.0</td>\n",
       "      <td>1</td>\n",
       "    </tr>\n",
       "  </tbody>\n",
       "</table>\n",
       "</div>"
      ],
      "text/plain": [
       "   user_id  avg_precision  avg_recall  avg_mrr  hit\n",
       "0  3374824            1.0        0.53      1.0    1\n",
       "1  3396036            0.7        0.64      1.0    1\n",
       "2  3378787            0.6        0.67      1.0    1\n",
       "3  3000415            0.5        0.83      1.0    1\n",
       "4  3383094            0.5        0.71      1.0    1"
      ]
     },
     "execution_count": 18,
     "metadata": {},
     "output_type": "execute_result"
    }
   ],
   "source": [
    "df_user_scores.head()"
   ]
  },
  {
   "cell_type": "code",
   "execution_count": 19,
   "metadata": {
    "ExecuteTime": {
     "end_time": "2020-03-26T15:09:27.481240Z",
     "start_time": "2020-03-26T15:09:27.473257Z"
    }
   },
   "outputs": [
    {
     "name": "stdout",
     "output_type": "stream",
     "text": [
      "Number of hits:  1242\n"
     ]
    }
   ],
   "source": [
    "number_of_hits = len(df_user_scores[df_user_scores['hit'] == 1])\n",
    "print('Number of hits: ', number_of_hits)"
   ]
  },
  {
   "cell_type": "code",
   "execution_count": 20,
   "metadata": {
    "ExecuteTime": {
     "end_time": "2020-03-26T15:09:27.949759Z",
     "start_time": "2020-03-26T15:09:27.769605Z"
    },
    "pycharm": {
     "name": "#%%\n"
    }
   },
   "outputs": [
    {
     "data": {
      "text/plain": [
       "<matplotlib.axes._subplots.AxesSubplot at 0x2376f428cc8>"
      ]
     },
     "execution_count": 20,
     "metadata": {},
     "output_type": "execute_result"
    },
    {
     "data": {
      "image/png": "[encoded data removed]",
      "text/plain": [
       "<Figure size 432x288 with 1 Axes>"
      ]
     },
     "metadata": {
      "needs_background": "light"
     },
     "output_type": "display_data"
    }
   ],
   "source": [
    "sns.countplot(x='hit',data=df_user_scores, palette='terrain')"
   ]
  },
  {
   "cell_type": "code",
   "execution_count": 21,
   "metadata": {
    "ExecuteTime": {
     "end_time": "2020-03-26T15:09:28.358176Z",
     "start_time": "2020-03-26T15:09:28.155472Z"
    },
    "pycharm": {
     "name": "#%%\n"
    }
   },
   "outputs": [
    {
     "data": {
      "text/plain": [
       "<matplotlib.axes._subplots.AxesSubplot at 0x2376f5972c8>"
      ]
     },
     "execution_count": 21,
     "metadata": {},
     "output_type": "execute_result"
    },
    {
     "data": {
      "image/png": "[encoded data removed]",
      "text/plain": [
       "<Figure size 432x288 with 1 Axes>"
      ]
     },
     "metadata": {
      "needs_background": "light"
     },
     "output_type": "display_data"
    }
   ],
   "source": [
    "sns.boxplot(x='hit', y='avg_precision', data=df_user_scores)"
   ]
  },
  {
   "cell_type": "code",
   "execution_count": 22,
   "metadata": {
    "ExecuteTime": {
     "end_time": "2020-03-26T15:09:28.671942Z",
     "start_time": "2020-03-26T15:09:28.666955Z"
    },
    "pycharm": {
     "name": "#%%\n"
    }
   },
   "outputs": [],
   "source": [
    "df_user_scores.drop(columns=['user_id'], inplace=True)\n",
    "df_user_scores.drop(columns=['hit'], inplace=True)"
   ]
  },
  {
   "cell_type": "code",
   "execution_count": 23,
   "metadata": {
    "ExecuteTime": {
     "end_time": "2020-03-26T15:09:35.317826Z",
     "start_time": "2020-03-26T15:09:29.631157Z"
    },
    "pycharm": {
     "name": "#%%\n"
    }
   },
   "outputs": [
    {
     "data": {
      "text/plain": [
       "<seaborn.axisgrid.PairGrid at 0x2376f616688>"
      ]
     },
     "execution_count": 23,
     "metadata": {},
     "output_type": "execute_result"
    },
    {
     "data": {
      "image/png": "[encoded data removed]",
      "text/plain": [
       "<Figure size 540x540 with 12 Axes>"
      ]
     },
     "metadata": {},
     "output_type": "display_data"
    }
   ],
   "source": [
    "import seaborn as sns; sns.set(style=\"ticks\", color_codes=True)\n",
    "sns.pairplot(df_user_scores, diag_kind=\"kde\")"
   ]
  },
  {
   "cell_type": "code",
   "execution_count": null,
   "metadata": {},
   "outputs": [],
   "source": []
  }
 ],
 "metadata": {
  "kernelspec": {
   "display_name": "Python 3",
   "language": "python",
   "name": "python3"
  },
  "language_info": {
   "codemirror_mode": {
    "name": "ipython",
    "version": 3
   },
   "file_extension": ".py",
   "mimetype": "text/x-python",
   "name": "python",
   "nbconvert_exporter": "python",
   "pygments_lexer": "ipython3",
   "version": "3.7.7"
  },
  "pycharm": {
   "stem_cell": {
    "cell_type": "raw",
    "metadata": {
     "collapsed": false
    },
    "source": []
   }
  },
  "toc": {
   "base_numbering": 1,
   "nav_menu": {},
   "number_sections": true,
   "sideBar": true,
   "skip_h1_title": false,
   "title_cell": "Table of Contents",
   "title_sidebar": "Contents",
   "toc_cell": false,
   "toc_position": {},
   "toc_section_display": true,
   "toc_window_display": false
  },
  "varInspector": {
   "cols": {
    "lenName": 16,
    "lenType": 16,
    "lenVar": 40
   },
   "kernels_config": {
    "python": {
     "delete_cmd_postfix": "",
     "delete_cmd_prefix": "del ",
     "library": "var_list.py",
     "varRefreshCmd": "print(var_dic_list())"
    },
    "r": {
     "delete_cmd_postfix": ") ",
     "delete_cmd_prefix": "rm(",
     "library": "var_list.r",
     "varRefreshCmd": "cat(var_dic_list()) "
    }
   },
   "types_to_exclude": [
    "module",
    "function",
    "builtin_function_or_method",
    "instance",
    "_Feature"
   ],
   "window_display": false
  }
 },
 "nbformat": 4,
 "nbformat_minor": 2
}
